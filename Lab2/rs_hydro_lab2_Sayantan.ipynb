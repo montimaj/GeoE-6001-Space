{
  "nbformat": 4,
  "nbformat_minor": 0,
  "metadata": {
    "colab": {
      "name": "rs-hydro-lab2_Sayantan.ipynb",
      "provenance": [],
      "collapsed_sections": [],
      "include_colab_link": true
    },
    "kernelspec": {
      "name": "python3",
      "display_name": "Python 3"
    }
  },
  "cells": [
    {
      "cell_type": "markdown",
      "metadata": {
        "id": "view-in-github",
        "colab_type": "text"
      },
      "source": [
        "<a href=\"https://colab.research.google.com/github/montimaj/GeoE-6001-Space/blob/main/rs_hydro_lab2_Sayantan.ipynb\" target=\"_parent\"><img src=\"https://colab.research.google.com/assets/colab-badge.svg\" alt=\"Open In Colab\"/></a>"
      ]
    },
    {
      "cell_type": "markdown",
      "metadata": {
        "id": "wEL4beddP9LP"
      },
      "source": [
        "# Lab 2\n",
        "\n",
        "In this lab, you will use python (and a module called Google Earth Engine) to view satellite imagery, and access precipitation datasets.\n",
        "\n",
        "Before starting the sections, we will import the modules we need, initialize Google Earth Engine, and define some functions."
      ]
    },
    {
      "cell_type": "markdown",
      "metadata": {
        "id": "PFTvpuKbQ1SY"
      },
      "source": [
        "The first block of code only needs to be run once, the first time you open your session (if you close out of the session and open again, you will need to run this again). Follow the prompts to initialize earth engine. You will be taken to a link where you need to give permission to link your google account with Google Earth Engine, then copy and paste some text below the code block."
      ]
    },
    {
      "cell_type": "code",
      "metadata": {
        "id": "bMC9C9SKMhgz",
        "colab": {
          "base_uri": "https://localhost:8080/"
        },
        "outputId": "b0c5dee0-f7fb-47d9-d4d8-41d5ad8b17ae"
      },
      "source": [
        "import ee\n",
        "import folium\n",
        "import numpy as np\n",
        "import branca.colormap as cm\n",
        "\n",
        "from google.colab import drive\n",
        "drive.mount('/content/drive/')\n",
        "\n",
        "ee.Authenticate()\n",
        "ee.Initialize()"
      ],
      "execution_count": 1,
      "outputs": [
        {
          "output_type": "stream",
          "name": "stdout",
          "text": [
            "Mounted at /content/drive/\n",
            "To authorize access needed by Earth Engine, open the following URL in a web browser and follow the instructions. If the web browser does not start automatically, please manually browse the URL below.\n",
            "\n",
            "    https://accounts.google.com/o/oauth2/auth?client_id=517222506229-vsmmajv00ul0bs7p89v5m89qs8eb9359.apps.googleusercontent.com&scope=https%3A%2F%2Fwww.googleapis.com%2Fauth%2Fearthengine+https%3A%2F%2Fwww.googleapis.com%2Fauth%2Fdevstorage.full_control&redirect_uri=urn%3Aietf%3Awg%3Aoauth%3A2.0%3Aoob&response_type=code&code_challenge=8Z5KlQ6x8SQD0jHtKtnkKKXtgT_38FK-rl0Nnx8BjDI&code_challenge_method=S256\n",
            "\n",
            "The authorization workflow will generate a code, which you should paste in the box below. \n",
            "Enter verification code: 4/1AX4XfWijzUD9zwVFUPNDZ88_Sxb9MjDXbmIDxZ190wGqimVy7u2YjN_lQ5A\n",
            "\n",
            "Successfully saved authorization token.\n"
          ]
        }
      ]
    },
    {
      "cell_type": "markdown",
      "metadata": {
        "id": "0hD7poLQReog"
      },
      "source": [
        "This block of code also only needs to be run once. It is defining a bunch of functions that you will use in this exercise. It is not important for you to understand the code here for this exercise."
      ]
    },
    {
      "cell_type": "code",
      "metadata": {
        "id": "n-9383M2OZd1"
      },
      "source": [
        "# functions needed for this lab (and some other useful ones that you can use if you're interested)\n",
        "\n",
        "# to add a layer to our map:\n",
        "def add_ee_layer(self, ee_object, name):\n",
        "    try:    \n",
        "        # display ee.Image()\n",
        "        if isinstance(ee_object, ee.image.Image):  \n",
        "            range = ee.Image(ee_object).reduceRegion(ee.Reducer.percentile([1, 99]),scale=10000)\n",
        "            vals = range.getInfo()\n",
        "            min=list(vals.items())[0][1]\n",
        "            max=list(vals.items())[1][1]\n",
        "            vis = {'min': min, 'max': max, 'palette': ['0000FF', 'FFFFFF','FF0000']}\n",
        "\n",
        "            map_id_dict = ee.Image(ee_object).getMapId(vis)\n",
        "            folium.raster_layers.TileLayer(\n",
        "            tiles = map_id_dict['tile_fetcher'].url_format,\n",
        "            attr = 'Google Earth Engine',\n",
        "            name = name,\n",
        "            overlay = True,\n",
        "            control = True\n",
        "            ).add_to(self)\n",
        "            colormap = cm.LinearColormap(vmin=min,vmax=max,colors=['blue', 'white','red']).to_step(n=10)\n",
        "            colormap.caption=name\n",
        "            self.add_child(colormap)\n",
        "        # display ee.ImageCollection()\n",
        "        elif isinstance(ee_object, ee.imagecollection.ImageCollection):    \n",
        "            ee_object_new = ee_object.mosaic()\n",
        "            map_id_dict = ee.Image(ee_object_new).getMapId(vis_params)\n",
        "            folium.raster_layers.TileLayer(\n",
        "            tiles = map_id_dict['tile_fetcher'].url_format,\n",
        "            attr = 'Google Earth Engine',\n",
        "            name = name,\n",
        "            overlay = True,\n",
        "            control = True\n",
        "            ).add_to(self)\n",
        "        # display ee.Geometry()\n",
        "        elif isinstance(ee_object, ee.geometry.Geometry):    \n",
        "            folium.GeoJson(\n",
        "            data = ee_object.getInfo(),\n",
        "            name = name,\n",
        "            overlay = True,\n",
        "            control = True\n",
        "        ).add_to(self)\n",
        "        # display ee.FeatureCollection()\n",
        "        elif isinstance(ee_object, ee.featurecollection.FeatureCollection):  \n",
        "            ee_object_new = ee.Image().paint(ee_object, 0, 2)\n",
        "            map_id_dict = ee.Image(ee_object_new).getMapId(vis_params)\n",
        "            folium.raster_layers.TileLayer(\n",
        "            tiles = map_id_dict['tile_fetcher'].url_format,\n",
        "            attr = 'Google Earth Engine',\n",
        "            name = name,\n",
        "            overlay = True,\n",
        "            control = True\n",
        "        ).add_to(self)\n",
        "    \n",
        "    except Exception as e:\n",
        "        print(\"Could not display {}\".format(name))\n",
        "        print(e)\n",
        "\n",
        "# to convert a google earth engine image to a python array\n",
        "def to_array(img,aoi):\n",
        "  band_arrs = img.sampleRectangle(region=aoi,properties=['scale=1000'],defaultValue=-999)\n",
        "\n",
        "  band_names=img.bandNames().getInfo()\n",
        "\n",
        "  for kk in range(len(band_names)):\n",
        "    if kk==0:\n",
        "      dat1=np.array(band_arrs.get(band_names[kk]).getInfo())\n",
        "      dat_full=np.zeros((dat1.shape[0],dat1.shape[1],len(band_names)))\n",
        "      dat_full[:,:,kk]=dat1\n",
        "    else:\n",
        "      dat=np.array(band_arrs.get(band_names[kk]).getInfo())\n",
        "      dat_full[:,:,kk]=dat\n",
        "  return(dat_full)\n",
        "\n",
        "# to calculate an index\n",
        "def getIndex(image,b1,b2):\n",
        "  return image.normalizedDifference([b1, b2])\n",
        "\n",
        "# to calculate a ratio\n",
        "def getRatio(image1,image2):\n",
        "  ratio=image1.divide(image2)\n",
        "  return ratio\n",
        "\n",
        "# to create a color map from a specific image\n",
        "def getVisparams(image,aoi):\n",
        "  range = image.reduceRegion(ee.Reducer.percentile([1, 99]),aoi,300)\n",
        "  vals = range.getInfo()\n",
        "  min=list(vals.items())[0][1]\n",
        "  max=list(vals.items())[1][1]\n",
        "  visParams = {'min': min, 'max': max, 'palette': ['0000FF', 'FFFFFF','FF0000']}\n",
        "  return(visParams)\n",
        "\n",
        "# to get the link to download an earth engine image\n",
        "def getLink(image,aoi):\n",
        "  link = image.getDownloadURL({\n",
        "    'scale': 1000,\n",
        "    'crs': 'EPSG:4326',\n",
        "    'fileFormat': 'GeoTIFF',\n",
        "    'region': aoi})\n",
        "  print(link)\n",
        "\n",
        "# create an earth engine geometry polygon\n",
        "def addGeometry(min_lon,max_lon,min_lat,max_lat):\n",
        "  import ee\n",
        "  geom = ee.Geometry.Polygon(\n",
        "      [[[min_lon, max_lat],\n",
        "        [min_lon, min_lat],\n",
        "        [max_lon, min_lat],\n",
        "        [max_lon, max_lat]]])\n",
        "  return(geom)\n",
        "\n",
        "# load prism data\n",
        "def get_prism_image(date1,date2,geometry, operation='mean'):\n",
        "  import ee\n",
        "  prism = ee.ImageCollection('OREGONSTATE/PRISM/AN81m')\n",
        "  if operation == 'mean':\n",
        "    prism_img = prism.filterDate(date1,date2).select('ppt').mean().clip(geometry)\n",
        "  else:\n",
        "    prism_img = prism.filterDate(date1,date2).select('ppt').sum().clip(geometry)\n",
        "  return(prism_img) # returns prism average monthly or total precipitation, in mm depending on the operation\n",
        "\n",
        "# load landsat 8 data\n",
        "def get_l8_image(date1,date2,geometry):\n",
        "  import ee\n",
        "  l8 = ee.ImageCollection('LANDSAT/LC08/C01/T1_RT')\n",
        "  l8_img = l8.filterDate(date1,date2).mean().clip(geometry)\n",
        "  return(l8_img)\n",
        "\n",
        "def export_to_drive(raster,filename,foldername,geometry):\n",
        "  # Export the image, specifying scale and region.\n",
        "  task = ee.batch.Export.image.toDrive(**{\n",
        "      'image': raster,\n",
        "      'description': filename,\n",
        "      'folder': foldername,\n",
        "      'fileNamePrefix': filename,\n",
        "      'scale': 1000,\n",
        "      'region': geometry,\n",
        "      'fileFormat': 'GeoTIFF',\n",
        "      'formatOptions': {\n",
        "        'cloudOptimized': 'true'\n",
        "      },\n",
        "  })\n",
        "  task.start()\n",
        "\n",
        "def get_elev(geometry):\n",
        "  import ee\n",
        "  elev = ee.Image('USGS/NED').clip(geometry)\n",
        "  return(elev)\n",
        "\n",
        "def get_srtm(geometry):\n",
        "  import ee\n",
        "  elev = ee.Image('USGS/SRTMGL1_003').clip(geometry)\n",
        "  return(elev)\n",
        "\n",
        "def get_gpm_image(date1,date2,geometry, operation='mean'):\n",
        "  import ee\n",
        "  gpm = ee.ImageCollection('NASA/GPM_L3/IMERG_MONTHLY_V06')\n",
        "  if operation == 'mean':\n",
        "    gpm_img = gpm.filterDate(date1,date2).select('precipitation').mean().multiply(24*365/12).clip(geometry)\n",
        "  else:\n",
        "    gpm_img = gpm.filterDate(date1,date2).select('precipitation').sum().multiply(24*365/12).clip(geometry)\n",
        "  return(gpm_img) # returns gpm average monthly or total precipitation in mm depending on the operation\n",
        "\n",
        "# load sentinel 2 data\n",
        "def get_s2_image(date1,date2,geometry):\n",
        "    import ee\n",
        "    s2 = ee.ImageCollection('COPERNICUS/S2')\n",
        "    s2_img = s2.filterDate(date1,date2).filterBounds(geometry).first().clip(geometry)\n",
        "    return(s2_img)\n",
        "\n",
        "# Add EE drawing method to folium.\n",
        "folium.Map.add_ee_layer = add_ee_layer"
      ],
      "execution_count": 8,
      "outputs": []
    },
    {
      "cell_type": "markdown",
      "metadata": {
        "id": "mPB43w6tRrSW"
      },
      "source": [
        "# Part 1: Viewing precipitation data for a given geometry and date\n",
        "\n",
        " "
      ]
    },
    {
      "cell_type": "markdown",
      "metadata": {
        "id": "rPP3FMD4SQKM"
      },
      "source": [
        "First, we will define the study area and time period and load some PRISM, GPM and elevation data."
      ]
    },
    {
      "cell_type": "code",
      "metadata": {
        "id": "3ee4KySvtxDb"
      },
      "source": [
        "# create a bounding box that defines the study area\n",
        "geom = addGeometry(-110, -105,40,45) # min long, max long, min lat, max lat\n",
        "\n",
        "# define dates of interest (inclusive).\n",
        "start = '2020-04-01'\n",
        "end = '2021-04-01' #can go up to april 2021\n",
        "\n",
        "# get elevation data\n",
        "elev = get_elev(geom)\n",
        "\n",
        "# now get gpm precipitation over the same region for a specified time period\n",
        "gpm_img = get_gpm_image(start,end,geom)\n",
        "\n",
        "# now get prism precipitation over the same time period/region\n",
        "prism_img = get_prism_image(start,end,geom)"
      ],
      "execution_count": 3,
      "outputs": []
    },
    {
      "cell_type": "markdown",
      "metadata": {
        "id": "G6NTOA9oULq-"
      },
      "source": [
        "Now, we will view the map. Scroll to the top so you can check/uncheck layers. Take a screenshot for your lab report."
      ]
    },
    {
      "cell_type": "code",
      "metadata": {
        "id": "LclSbsmkt4Zq",
        "colab": {
          "base_uri": "https://localhost:8080/",
          "height": 1000
        },
        "outputId": "e7f6a01a-280f-4f3b-9348-b0d5e068d0f4"
      },
      "source": [
        "my_map = folium.Map(location=[42.5, -107], zoom_start=6)\n",
        "\n",
        "# Add the land cover to the map object.\n",
        "#my_map.add_ee_layer(l8_img,'Landsat 8')\n",
        "my_map.add_ee_layer(elev,'Elevation')\n",
        "my_map.add_ee_layer(prism_img,'PRISM precip')\n",
        "my_map.add_ee_layer(gpm_img,'GPM precip')\n",
        "\n",
        "my_map.add_ee_layer(geom,'bounding box')\n",
        "\n",
        "# Add a layer control panel to the map.\n",
        "my_map.add_child(folium.LayerControl())\n",
        "\n",
        "# Display the map.\n",
        "display(my_map)"
      ],
      "execution_count": 4,
      "outputs": [
        {
          "output_type": "display_data",
          "data": {
            "text/html": [
              "<div style=\"width:100%;\"><div style=\"position:relative;width:100%;height:0;padding-bottom:60%;\"><span style=\"color:#565656\">Make this Notebook Trusted to load map: File -> Trust Notebook</span><iframe src=\"about:blank\" style=\"position:absolute;width:100%;height:100%;left:0;top:0;border:none !important;\" data-html=%3C%21DOCTYPE%20html%3E%0A%3Chead%3E%20%20%20%20%0A%20%20%20%20%3Cmeta%20http-equiv%3D%22content-type%22%20content%3D%22text/html%3B%20charset%3DUTF-8%22%20/%3E%0A%20%20%20%20%3Cscript%3EL_PREFER_CANVAS%3Dfalse%3B%20L_NO_TOUCH%3Dfalse%3B%20L_DISABLE_3D%3Dfalse%3B%3C/script%3E%0A%20%20%20%20%3Cscript%20src%3D%22https%3A//cdn.jsdelivr.net/npm/leaflet%401.4.0/dist/leaflet.js%22%3E%3C/script%3E%0A%20%20%20%20%3Cscript%20src%3D%22https%3A//code.jquery.com/jquery-1.12.4.min.js%22%3E%3C/script%3E%0A%20%20%20%20%3Cscript%20src%3D%22https%3A//maxcdn.bootstrapcdn.com/bootstrap/3.2.0/js/bootstrap.min.js%22%3E%3C/script%3E%0A%20%20%20%20%3Cscript%20src%3D%22https%3A//cdnjs.cloudflare.com/ajax/libs/Leaflet.awesome-markers/2.0.2/leaflet.awesome-markers.js%22%3E%3C/script%3E%0A%20%20%20%20%3Clink%20rel%3D%22stylesheet%22%20href%3D%22https%3A//cdn.jsdelivr.net/npm/leaflet%401.4.0/dist/leaflet.css%22/%3E%0A%20%20%20%20%3Clink%20rel%3D%22stylesheet%22%20href%3D%22https%3A//maxcdn.bootstrapcdn.com/bootstrap/3.2.0/css/bootstrap.min.css%22/%3E%0A%20%20%20%20%3Clink%20rel%3D%22stylesheet%22%20href%3D%22https%3A//maxcdn.bootstrapcdn.com/bootstrap/3.2.0/css/bootstrap-theme.min.css%22/%3E%0A%20%20%20%20%3Clink%20rel%3D%22stylesheet%22%20href%3D%22https%3A//maxcdn.bootstrapcdn.com/font-awesome/4.6.3/css/font-awesome.min.css%22/%3E%0A%20%20%20%20%3Clink%20rel%3D%22stylesheet%22%20href%3D%22https%3A//cdnjs.cloudflare.com/ajax/libs/Leaflet.awesome-markers/2.0.2/leaflet.awesome-markers.css%22/%3E%0A%20%20%20%20%3Clink%20rel%3D%22stylesheet%22%20href%3D%22https%3A//rawcdn.githack.com/python-visualization/folium/master/folium/templates/leaflet.awesome.rotate.css%22/%3E%0A%20%20%20%20%3Cstyle%3Ehtml%2C%20body%20%7Bwidth%3A%20100%25%3Bheight%3A%20100%25%3Bmargin%3A%200%3Bpadding%3A%200%3B%7D%3C/style%3E%0A%20%20%20%20%3Cstyle%3E%23map%20%7Bposition%3Aabsolute%3Btop%3A0%3Bbottom%3A0%3Bright%3A0%3Bleft%3A0%3B%7D%3C/style%3E%0A%20%20%20%20%0A%20%20%20%20%3Cmeta%20name%3D%22viewport%22%20content%3D%22width%3Ddevice-width%2C%0A%20%20%20%20%20%20%20%20initial-scale%3D1.0%2C%20maximum-scale%3D1.0%2C%20user-scalable%3Dno%22%20/%3E%0A%20%20%20%20%3Cstyle%3E%23map_a6b10c8f3e814009b91eb6dfbb1cc8c0%20%7B%0A%20%20%20%20%20%20%20%20position%3A%20relative%3B%0A%20%20%20%20%20%20%20%20width%3A%20100.0%25%3B%0A%20%20%20%20%20%20%20%20height%3A%20100.0%25%3B%0A%20%20%20%20%20%20%20%20left%3A%200.0%25%3B%0A%20%20%20%20%20%20%20%20top%3A%200.0%25%3B%0A%20%20%20%20%20%20%20%20%7D%0A%20%20%20%20%3C/style%3E%0A%20%20%20%20%3Cscript%20src%3D%22https%3A//cdnjs.cloudflare.com/ajax/libs/d3/3.5.5/d3.min.js%22%3E%3C/script%3E%0A%3C/head%3E%0A%3Cbody%3E%20%20%20%20%0A%20%20%20%20%0A%20%20%20%20%3Cdiv%20class%3D%22folium-map%22%20id%3D%22map_a6b10c8f3e814009b91eb6dfbb1cc8c0%22%20%3E%3C/div%3E%0A%3C/body%3E%0A%3Cscript%3E%20%20%20%20%0A%20%20%20%20%0A%20%20%20%20%0A%20%20%20%20%20%20%20%20var%20bounds%20%3D%20null%3B%0A%20%20%20%20%0A%0A%20%20%20%20var%20map_a6b10c8f3e814009b91eb6dfbb1cc8c0%20%3D%20L.map%28%0A%20%20%20%20%20%20%20%20%27map_a6b10c8f3e814009b91eb6dfbb1cc8c0%27%2C%20%7B%0A%20%20%20%20%20%20%20%20center%3A%20%5B42.5%2C%20-107%5D%2C%0A%20%20%20%20%20%20%20%20zoom%3A%206%2C%0A%20%20%20%20%20%20%20%20maxBounds%3A%20bounds%2C%0A%20%20%20%20%20%20%20%20layers%3A%20%5B%5D%2C%0A%20%20%20%20%20%20%20%20worldCopyJump%3A%20false%2C%0A%20%20%20%20%20%20%20%20crs%3A%20L.CRS.EPSG3857%2C%0A%20%20%20%20%20%20%20%20zoomControl%3A%20true%2C%0A%20%20%20%20%20%20%20%20%7D%29%3B%0A%0A%0A%20%20%20%20%0A%20%20%20%20var%20tile_layer_111e3d2918f94f368842e8126ef06337%20%3D%20L.tileLayer%28%0A%20%20%20%20%20%20%20%20%27https%3A//%7Bs%7D.tile.openstreetmap.org/%7Bz%7D/%7Bx%7D/%7By%7D.png%27%2C%0A%20%20%20%20%20%20%20%20%7B%0A%20%20%20%20%20%20%20%20%22attribution%22%3A%20null%2C%0A%20%20%20%20%20%20%20%20%22detectRetina%22%3A%20false%2C%0A%20%20%20%20%20%20%20%20%22maxNativeZoom%22%3A%2018%2C%0A%20%20%20%20%20%20%20%20%22maxZoom%22%3A%2018%2C%0A%20%20%20%20%20%20%20%20%22minZoom%22%3A%200%2C%0A%20%20%20%20%20%20%20%20%22noWrap%22%3A%20false%2C%0A%20%20%20%20%20%20%20%20%22opacity%22%3A%201%2C%0A%20%20%20%20%20%20%20%20%22subdomains%22%3A%20%22abc%22%2C%0A%20%20%20%20%20%20%20%20%22tms%22%3A%20false%0A%7D%29.addTo%28map_a6b10c8f3e814009b91eb6dfbb1cc8c0%29%3B%0A%20%20%20%20var%20tile_layer_b888b49c11844223836ea1cb13a7340f%20%3D%20L.tileLayer%28%0A%20%20%20%20%20%20%20%20%27https%3A//earthengine.googleapis.com/v1alpha/projects/earthengine-legacy/maps/27cd07f5bf1856c12716a86356a19971-e33a59f029b48ef0cb653a61a3cca6f7/tiles/%7Bz%7D/%7Bx%7D/%7By%7D%27%2C%0A%20%20%20%20%20%20%20%20%7B%0A%20%20%20%20%20%20%20%20%22attribution%22%3A%20%22Google%20Earth%20Engine%22%2C%0A%20%20%20%20%20%20%20%20%22detectRetina%22%3A%20false%2C%0A%20%20%20%20%20%20%20%20%22maxNativeZoom%22%3A%2018%2C%0A%20%20%20%20%20%20%20%20%22maxZoom%22%3A%2018%2C%0A%20%20%20%20%20%20%20%20%22minZoom%22%3A%200%2C%0A%20%20%20%20%20%20%20%20%22noWrap%22%3A%20false%2C%0A%20%20%20%20%20%20%20%20%22opacity%22%3A%201%2C%0A%20%20%20%20%20%20%20%20%22subdomains%22%3A%20%22abc%22%2C%0A%20%20%20%20%20%20%20%20%22tms%22%3A%20false%0A%7D%29.addTo%28map_a6b10c8f3e814009b91eb6dfbb1cc8c0%29%3B%0A%20%20%20%20%0A%20%20%20%20var%20color_map_8852403b257d49aab1e276c5953e32ce%20%3D%20%7B%7D%3B%0A%0A%20%20%20%20%0A%20%20%20%20color_map_8852403b257d49aab1e276c5953e32ce.color%20%3D%20d3.scale.threshold%28%29%0A%20%20%20%20%20%20%20%20%20%20%20%20%20%20.domain%28%5B1173.4304188873807%2C%201177.6768885540434%2C%201181.9233582207062%2C%201186.169827887369%2C%201190.4162975540316%2C%201194.6627672206944%2C%201198.909236887357%2C%201203.1557065540198%2C%201207.4021762206826%2C%201211.6486458873453%2C%201215.895115554008%2C%201220.1415852206708%2C%201224.3880548873335%2C%201228.6345245539962%2C%201232.880994220659%2C%201237.1274638873217%2C%201241.3739335539844%2C%201245.6204032206472%2C%201249.86687288731%2C%201254.1133425539726%2C%201258.3598122206354%2C%201262.606281887298%2C%201266.8527515539608%2C%201271.0992212206236%2C%201275.3456908872863%2C%201279.592160553949%2C%201283.8386302206118%2C%201288.0850998872745%2C%201292.3315695539372%2C%201296.5780392206%2C%201300.8245088872627%2C%201305.0709785539254%2C%201309.3174482205882%2C%201313.563917887251%2C%201317.8103875539136%2C%201322.0568572205764%2C%201326.303326887239%2C%201330.5497965539018%2C%201334.7962662205646%2C%201339.0427358872273%2C%201343.28920555389%2C%201347.5356752205525%2C%201351.7821448872155%2C%201356.0286145538782%2C%201360.275084220541%2C%201364.5215538872035%2C%201368.7680235538664%2C%201373.014493220529%2C%201377.260962887192%2C%201381.5074325538544%2C%201385.7539022205171%2C%201390.0003718871799%2C%201394.2468415538428%2C%201398.4933112205053%2C%201402.7397808871683%2C%201406.9862505538308%2C%201411.2327202204938%2C%201415.4791898871563%2C%201419.725659553819%2C%201423.9721292204817%2C%201428.2185988871445%2C%201432.4650685538072%2C%201436.7115382204702%2C%201440.9580078871327%2C%201445.2044775537954%2C%201449.4509472204581%2C%201453.6974168871209%2C%201457.9438865537836%2C%201462.1903562204463%2C%201466.436825887109%2C%201470.6832955537718%2C%201474.9297652204345%2C%201479.1762348870973%2C%201483.42270455376%2C%201487.6691742204227%2C%201491.9156438870855%2C%201496.1621135537482%2C%201500.408583220411%2C%201504.6550528870737%2C%201508.9015225537364%2C%201513.1479922203991%2C%201517.3944618870619%2C%201521.6409315537246%2C%201525.8874012203873%2C%201530.13387088705%2C%201534.3803405537128%2C%201538.6268102203755%2C%201542.8732798870383%2C%201547.119749553701%2C%201551.3662192203637%2C%201555.6126888870265%2C%201559.8591585536892%2C%201564.105628220352%2C%201568.3520978870147%2C%201572.5985675536774%2C%201576.8450372203401%2C%201581.0915068870029%2C%201585.3379765536656%2C%201589.5844462203283%2C%201593.830915886991%2C%201598.0773855536538%2C%201602.3238552203165%2C%201606.5703248869793%2C%201610.816794553642%2C%201615.0632642203047%2C%201619.3097338869675%2C%201623.5562035536302%2C%201627.802673220293%2C%201632.0491428869557%2C%201636.2956125536184%2C%201640.5420822202811%2C%201644.7885518869439%2C%201649.0350215536066%2C%201653.2814912202693%2C%201657.527960886932%2C%201661.7744305535948%2C%201666.0209002202575%2C%201670.2673698869203%2C%201674.513839553583%2C%201678.7603092202457%2C%201683.0067788869085%2C%201687.2532485535712%2C%201691.4997182202337%2C%201695.7461878868967%2C%201699.9926575535594%2C%201704.2391272202221%2C%201708.4855968868847%2C%201712.7320665535476%2C%201716.9785362202101%2C%201721.225005886873%2C%201725.4714755535358%2C%201729.7179452201985%2C%201733.964414886861%2C%201738.210884553524%2C%201742.4573542201865%2C%201746.7038238868495%2C%201750.950293553512%2C%201755.196763220175%2C%201759.4432328868374%2C%201763.6897025535004%2C%201767.936172220163%2C%201772.1826418868259%2C%201776.4291115534884%2C%201780.6755812201513%2C%201784.9220508868138%2C%201789.1685205534768%2C%201793.4149902201393%2C%201797.6614598868023%2C%201801.9079295534648%2C%201806.1543992201277%2C%201810.4008688867902%2C%201814.6473385534532%2C%201818.8938082201157%2C%201823.1402778867787%2C%201827.3867475534412%2C%201831.6332172201041%2C%201835.8796868867666%2C%201840.1261565534296%2C%201844.3726262200921%2C%201848.619095886755%2C%201852.8655655534176%2C%201857.1120352200805%2C%201861.358504886743%2C%201865.6049745534058%2C%201869.8514442200685%2C%201874.0979138867315%2C%201878.344383553394%2C%201882.590853220057%2C%201886.8373228867194%2C%201891.0837925533822%2C%201895.330262220045%2C%201899.5767318867079%2C%201903.8232015533704%2C%201908.0696712200333%2C%201912.3161408866958%2C%201916.5626105533586%2C%201920.8090802200213%2C%201925.0555498866843%2C%201929.3020195533468%2C%201933.5484892200095%2C%201937.7949588866722%2C%201942.041428553335%2C%201946.2878982199977%2C%201950.5343678866607%2C%201954.7808375533232%2C%201959.027307219986%2C%201963.2737768866486%2C%201967.5202465533114%2C%201971.7667162199741%2C%201976.013185886637%2C%201980.2596555532996%2C%201984.5061252199623%2C%201988.752594886625%2C%201992.9990645532878%2C%201997.2455342199505%2C%202001.4920038866132%2C%202005.738473553276%2C%202009.9849432199387%2C%202014.2314128866014%2C%202018.4778825532642%2C%202022.724352219927%2C%202026.9708218865896%2C%202031.2172915532524%2C%202035.463761219915%2C%202039.7102308865778%2C%202043.9567005532406%2C%202048.2031702199033%2C%202052.449639886566%2C%202056.696109553229%2C%202060.9425792198917%2C%202065.1890488865542%2C%202069.4355185532168%2C%202073.6819882198797%2C%202077.9284578865427%2C%202082.174927553205%2C%202086.4213972198677%2C%202090.6678668865306%2C%202094.914336553193%2C%202099.160806219856%2C%202103.4072758865186%2C%202107.6537455531816%2C%202111.9002152198445%2C%202116.146684886507%2C%202120.3931545531696%2C%202124.6396242198325%2C%202128.8860938864955%2C%202133.132563553158%2C%202137.3790332198205%2C%202141.6255028864834%2C%202145.871972553146%2C%202150.118442219809%2C%202154.3649118864714%2C%202158.6113815531344%2C%202162.857851219797%2C%202167.10432088646%2C%202171.3507905531224%2C%202175.5972602197853%2C%202179.8437298864483%2C%202184.090199553111%2C%202188.3366692197733%2C%202192.5831388864362%2C%202196.8296085530988%2C%202201.0760782197617%2C%202205.322547886424%2C%202209.569017553087%2C%202213.81548721975%2C%202218.0619568864126%2C%202222.308426553075%2C%202226.554896219738%2C%202230.801365886401%2C%202235.0478355530636%2C%202239.294305219726%2C%202243.540774886389%2C%202247.7872445530516%2C%202252.033714219714%2C%202256.280183886377%2C%202260.52665355304%2C%202264.773123219703%2C%202269.0195928863654%2C%202273.266062553028%2C%202277.512532219691%2C%202281.759001886354%2C%202286.005471553016%2C%202290.251941219679%2C%202294.498410886342%2C%202298.7448805530044%2C%202302.991350219667%2C%202307.23781988633%2C%202311.484289552993%2C%202315.7307592196557%2C%202319.9772288863182%2C%202324.2236985529807%2C%202328.4701682196437%2C%202332.716637886306%2C%202336.9631075529687%2C%202341.2095772196317%2C%202345.4560468862946%2C%202349.702516552957%2C%202353.9489862196197%2C%202358.1954558862826%2C%202362.4419255529456%2C%202366.6883952196085%2C%202370.934864886271%2C%202375.1813345529335%2C%202379.4278042195965%2C%202383.674273886259%2C%202387.9207435529215%2C%202392.1672132195845%2C%202396.4136828862474%2C%202400.66015255291%2C%202404.9066222195725%2C%202409.1530918862354%2C%202413.3995615528984%2C%202417.6460312195613%2C%202421.8925008862234%2C%202426.1389705528863%2C%202430.3854402195493%2C%202434.631909886212%2C%202438.8783795528743%2C%202443.1248492195373%2C%202447.3713188862002%2C%202451.6177885528627%2C%202455.8642582195253%2C%202460.110727886188%2C%202464.357197552851%2C%202468.6036672195137%2C%202472.850136886176%2C%202477.096606552839%2C%202481.343076219502%2C%202485.5895458861646%2C%202489.836015552827%2C%202494.08248521949%2C%202498.328954886153%2C%202502.5754245528155%2C%202506.821894219478%2C%202511.068363886141%2C%202515.3148335528035%2C%202519.5613032194665%2C%202523.807772886129%2C%202528.054242552792%2C%202532.300712219455%2C%202536.5471818861174%2C%202540.79365155278%2C%202545.040121219443%2C%202549.286590886106%2C%202553.5330605527683%2C%202557.779530219431%2C%202562.025999886094%2C%202566.2724695527563%2C%202570.5189392194193%2C%202574.765408886082%2C%202579.0118785527447%2C%202583.2583482194077%2C%202587.50481788607%2C%202591.7512875527327%2C%202595.9977572193957%2C%202600.244226886058%2C%202604.4906965527207%2C%202608.7371662193837%2C%202612.9836358860466%2C%202617.230105552709%2C%202621.476575219372%2C%202625.7230448860346%2C%202629.9695145526975%2C%202634.2159842193605%2C%202638.462453886023%2C%202642.7089235526855%2C%202646.9553932193485%2C%202651.201862886011%2C%202655.4483325526735%2C%202659.6948022193365%2C%202663.9412718859994%2C%202668.187741552662%2C%202672.434211219325%2C%202676.6806808859874%2C%202680.9271505526503%2C%202685.1736202193133%2C%202689.420089885976%2C%202693.6665595526383%2C%202697.9130292193013%2C%202702.159498885964%2C%202706.4059685526263%2C%202710.6524382192893%2C%202714.898907885952%2C%202719.1453775526147%2C%202723.3918472192777%2C%202727.63831688594%2C%202731.884786552603%2C%202736.131256219266%2C%202740.377725885928%2C%202744.624195552591%2C%202748.870665219254%2C%202753.1171348859166%2C%202757.363604552579%2C%202761.610074219242%2C%202765.856543885905%2C%202770.1030135525675%2C%202774.3494832192305%2C%202778.595952885893%2C%202782.842422552556%2C%202787.0888922192185%2C%202791.335361885881%2C%202795.581831552544%2C%202799.828301219207%2C%202804.0747708858694%2C%202808.321240552532%2C%202812.567710219195%2C%202816.814179885858%2C%202821.0606495525203%2C%202825.3071192191833%2C%202829.553588885846%2C%202833.8000585525087%2C%202838.0465282191713%2C%202842.2929978858338%2C%202846.5394675524967%2C%202850.7859372191597%2C%202855.032406885822%2C%202859.2788765524847%2C%202863.5253462191477%2C%202867.7718158858106%2C%202872.0182855524727%2C%202876.2647552191356%2C%202880.5112248857986%2C%202884.7576945524615%2C%202889.004164219124%2C%202893.2506338857866%2C%202897.4971035524495%2C%202901.7435732191125%2C%202905.990042885775%2C%202910.2365125524375%2C%202914.4829822191004%2C%202918.729451885763%2C%202922.9759215524255%2C%202927.2223912190884%2C%202931.4688608857514%2C%202935.7153305524143%2C%202939.961800219077%2C%202944.2082698857394%2C%202948.4547395524023%2C%202952.7012092190653%2C%202956.947678885728%2C%202961.1941485523903%2C%202965.4406182190532%2C%202969.6870878857158%2C%202973.9335575523783%2C%202978.180027219041%2C%202982.426496885704%2C%202986.672966552367%2C%202990.9194362190296%2C%202995.165905885692%2C%202999.412375552355%2C%203003.658845219018%2C%203007.9053148856806%2C%203012.151784552343%2C%203016.398254219006%2C%203020.6447238856686%2C%203024.8911935523315%2C%203029.137663218994%2C%203033.384132885657%2C%203037.63060255232%2C%203041.8770722189824%2C%203046.123541885645%2C%203050.370011552308%2C%203054.6164812189704%2C%203058.862950885633%2C%203063.109420552296%2C%203067.355890218959%2C%203071.6023598856214%2C%203075.8488295522843%2C%203080.095299218947%2C%203084.34176888561%2C%203088.5882385522727%2C%203092.8347082189352%2C%203097.0811778855978%2C%203101.3276475522607%2C%203105.574117218923%2C%203109.8205868855857%2C%203114.0670565522487%2C%203118.3135262189116%2C%203122.559995885574%2C%203126.806465552237%2C%203131.0529352188996%2C%203135.2994048855626%2C%203139.5458745522255%2C%203143.7923442188876%2C%203148.0388138855506%2C%203152.2852835522135%2C%203156.531753218876%2C%203160.7782228855385%2C%203165.0246925522015%2C%203169.2711622188644%2C%203173.517631885527%2C%203177.76410155219%2C%203182.0105712188524%2C%203186.2570408855154%2C%203190.503510552178%2C%203194.7499802188404%2C%203198.9964498855034%2C%203203.2429195521663%2C%203207.489389218829%2C%203211.7358588854913%2C%203215.9823285521543%2C%203220.2287982188172%2C%203224.4752678854798%2C%203228.7217375521427%2C%203232.968207218805%2C%203237.2146768854677%2C%203241.4611465521307%2C%203245.707616218793%2C%203249.954085885456%2C%203254.200555552119%2C%203258.4470252187816%2C%203262.6934948854446%2C%203266.939964552107%2C%203271.18643421877%2C%203275.4329038854326%2C%203279.6793735520955%2C%203283.925843218758%2C%203288.172312885421%2C%203292.4187825520835%5D%29%0A%20%20%20%20%20%20%20%20%20%20%20%20%20%20.range%28%5B%27%230000ffff%27%2C%20%27%230000ffff%27%2C%20%27%230000ffff%27%2C%20%27%230000ffff%27%2C%20%27%230000ffff%27%2C%20%27%230000ffff%27%2C%20%27%230000ffff%27%2C%20%27%230000ffff%27%2C%20%27%230000ffff%27%2C%20%27%230000ffff%27%2C%20%27%230000ffff%27%2C%20%27%230000ffff%27%2C%20%27%230000ffff%27%2C%20%27%230000ffff%27%2C%20%27%230000ffff%27%2C%20%27%230000ffff%27%2C%20%27%230000ffff%27%2C%20%27%230000ffff%27%2C%20%27%230000ffff%27%2C%20%27%230000ffff%27%2C%20%27%230000ffff%27%2C%20%27%230000ffff%27%2C%20%27%230000ffff%27%2C%20%27%230000ffff%27%2C%20%27%230000ffff%27%2C%20%27%230000ffff%27%2C%20%27%230000ffff%27%2C%20%27%230000ffff%27%2C%20%27%230000ffff%27%2C%20%27%230000ffff%27%2C%20%27%230000ffff%27%2C%20%27%230000ffff%27%2C%20%27%230000ffff%27%2C%20%27%230000ffff%27%2C%20%27%230000ffff%27%2C%20%27%230000ffff%27%2C%20%27%230000ffff%27%2C%20%27%230000ffff%27%2C%20%27%230000ffff%27%2C%20%27%230000ffff%27%2C%20%27%230000ffff%27%2C%20%27%230000ffff%27%2C%20%27%230000ffff%27%2C%20%27%230000ffff%27%2C%20%27%230000ffff%27%2C%20%27%230000ffff%27%2C%20%27%230000ffff%27%2C%20%27%230000ffff%27%2C%20%27%230000ffff%27%2C%20%27%230000ffff%27%2C%20%27%233838ffff%27%2C%20%27%233838ffff%27%2C%20%27%233838ffff%27%2C%20%27%233838ffff%27%2C%20%27%233838ffff%27%2C%20%27%233838ffff%27%2C%20%27%233838ffff%27%2C%20%27%233838ffff%27%2C%20%27%233838ffff%27%2C%20%27%233838ffff%27%2C%20%27%233838ffff%27%2C%20%27%233838ffff%27%2C%20%27%233838ffff%27%2C%20%27%233838ffff%27%2C%20%27%233838ffff%27%2C%20%27%233838ffff%27%2C%20%27%233838ffff%27%2C%20%27%233838ffff%27%2C%20%27%233838ffff%27%2C%20%27%233838ffff%27%2C%20%27%233838ffff%27%2C%20%27%233838ffff%27%2C%20%27%233838ffff%27%2C%20%27%233838ffff%27%2C%20%27%233838ffff%27%2C%20%27%233838ffff%27%2C%20%27%233838ffff%27%2C%20%27%233838ffff%27%2C%20%27%233838ffff%27%2C%20%27%233838ffff%27%2C%20%27%233838ffff%27%2C%20%27%233838ffff%27%2C%20%27%233838ffff%27%2C%20%27%233838ffff%27%2C%20%27%233838ffff%27%2C%20%27%233838ffff%27%2C%20%27%233838ffff%27%2C%20%27%233838ffff%27%2C%20%27%233838ffff%27%2C%20%27%233838ffff%27%2C%20%27%233838ffff%27%2C%20%27%233838ffff%27%2C%20%27%233838ffff%27%2C%20%27%233838ffff%27%2C%20%27%233838ffff%27%2C%20%27%233838ffff%27%2C%20%27%233838ffff%27%2C%20%27%233838ffff%27%2C%20%27%233838ffff%27%2C%20%27%233838ffff%27%2C%20%27%237171ffff%27%2C%20%27%237171ffff%27%2C%20%27%237171ffff%27%2C%20%27%237171ffff%27%2C%20%27%237171ffff%27%2C%20%27%237171ffff%27%2C%20%27%237171ffff%27%2C%20%27%237171ffff%27%2C%20%27%237171ffff%27%2C%20%27%237171ffff%27%2C%20%27%237171ffff%27%2C%20%27%237171ffff%27%2C%20%27%237171ffff%27%2C%20%27%237171ffff%27%2C%20%27%237171ffff%27%2C%20%27%237171ffff%27%2C%20%27%237171ffff%27%2C%20%27%237171ffff%27%2C%20%27%237171ffff%27%2C%20%27%237171ffff%27%2C%20%27%237171ffff%27%2C%20%27%237171ffff%27%2C%20%27%237171ffff%27%2C%20%27%237171ffff%27%2C%20%27%237171ffff%27%2C%20%27%237171ffff%27%2C%20%27%237171ffff%27%2C%20%27%237171ffff%27%2C%20%27%237171ffff%27%2C%20%27%237171ffff%27%2C%20%27%237171ffff%27%2C%20%27%237171ffff%27%2C%20%27%237171ffff%27%2C%20%27%237171ffff%27%2C%20%27%237171ffff%27%2C%20%27%237171ffff%27%2C%20%27%237171ffff%27%2C%20%27%237171ffff%27%2C%20%27%237171ffff%27%2C%20%27%237171ffff%27%2C%20%27%237171ffff%27%2C%20%27%237171ffff%27%2C%20%27%237171ffff%27%2C%20%27%237171ffff%27%2C%20%27%237171ffff%27%2C%20%27%237171ffff%27%2C%20%27%237171ffff%27%2C%20%27%237171ffff%27%2C%20%27%237171ffff%27%2C%20%27%237171ffff%27%2C%20%27%23aaaaffff%27%2C%20%27%23aaaaffff%27%2C%20%27%23aaaaffff%27%2C%20%27%23aaaaffff%27%2C%20%27%23aaaaffff%27%2C%20%27%23aaaaffff%27%2C%20%27%23aaaaffff%27%2C%20%27%23aaaaffff%27%2C%20%27%23aaaaffff%27%2C%20%27%23aaaaffff%27%2C%20%27%23aaaaffff%27%2C%20%27%23aaaaffff%27%2C%20%27%23aaaaffff%27%2C%20%27%23aaaaffff%27%2C%20%27%23aaaaffff%27%2C%20%27%23aaaaffff%27%2C%20%27%23aaaaffff%27%2C%20%27%23aaaaffff%27%2C%20%27%23aaaaffff%27%2C%20%27%23aaaaffff%27%2C%20%27%23aaaaffff%27%2C%20%27%23aaaaffff%27%2C%20%27%23aaaaffff%27%2C%20%27%23aaaaffff%27%2C%20%27%23aaaaffff%27%2C%20%27%23aaaaffff%27%2C%20%27%23aaaaffff%27%2C%20%27%23aaaaffff%27%2C%20%27%23aaaaffff%27%2C%20%27%23aaaaffff%27%2C%20%27%23aaaaffff%27%2C%20%27%23aaaaffff%27%2C%20%27%23aaaaffff%27%2C%20%27%23aaaaffff%27%2C%20%27%23aaaaffff%27%2C%20%27%23aaaaffff%27%2C%20%27%23aaaaffff%27%2C%20%27%23aaaaffff%27%2C%20%27%23aaaaffff%27%2C%20%27%23aaaaffff%27%2C%20%27%23aaaaffff%27%2C%20%27%23aaaaffff%27%2C%20%27%23aaaaffff%27%2C%20%27%23aaaaffff%27%2C%20%27%23aaaaffff%27%2C%20%27%23aaaaffff%27%2C%20%27%23aaaaffff%27%2C%20%27%23aaaaffff%27%2C%20%27%23aaaaffff%27%2C%20%27%23aaaaffff%27%2C%20%27%23e3e3ffff%27%2C%20%27%23e3e3ffff%27%2C%20%27%23e3e3ffff%27%2C%20%27%23e3e3ffff%27%2C%20%27%23e3e3ffff%27%2C%20%27%23e3e3ffff%27%2C%20%27%23e3e3ffff%27%2C%20%27%23e3e3ffff%27%2C%20%27%23e3e3ffff%27%2C%20%27%23e3e3ffff%27%2C%20%27%23e3e3ffff%27%2C%20%27%23e3e3ffff%27%2C%20%27%23e3e3ffff%27%2C%20%27%23e3e3ffff%27%2C%20%27%23e3e3ffff%27%2C%20%27%23e3e3ffff%27%2C%20%27%23e3e3ffff%27%2C%20%27%23e3e3ffff%27%2C%20%27%23e3e3ffff%27%2C%20%27%23e3e3ffff%27%2C%20%27%23e3e3ffff%27%2C%20%27%23e3e3ffff%27%2C%20%27%23e3e3ffff%27%2C%20%27%23e3e3ffff%27%2C%20%27%23e3e3ffff%27%2C%20%27%23e3e3ffff%27%2C%20%27%23e3e3ffff%27%2C%20%27%23e3e3ffff%27%2C%20%27%23e3e3ffff%27%2C%20%27%23e3e3ffff%27%2C%20%27%23e3e3ffff%27%2C%20%27%23e3e3ffff%27%2C%20%27%23e3e3ffff%27%2C%20%27%23e3e3ffff%27%2C%20%27%23e3e3ffff%27%2C%20%27%23e3e3ffff%27%2C%20%27%23e3e3ffff%27%2C%20%27%23e3e3ffff%27%2C%20%27%23e3e3ffff%27%2C%20%27%23e3e3ffff%27%2C%20%27%23e3e3ffff%27%2C%20%27%23e3e3ffff%27%2C%20%27%23e3e3ffff%27%2C%20%27%23e3e3ffff%27%2C%20%27%23e3e3ffff%27%2C%20%27%23e3e3ffff%27%2C%20%27%23e3e3ffff%27%2C%20%27%23e3e3ffff%27%2C%20%27%23e3e3ffff%27%2C%20%27%23e3e3ffff%27%2C%20%27%23ffe3e3ff%27%2C%20%27%23ffe3e3ff%27%2C%20%27%23ffe3e3ff%27%2C%20%27%23ffe3e3ff%27%2C%20%27%23ffe3e3ff%27%2C%20%27%23ffe3e3ff%27%2C%20%27%23ffe3e3ff%27%2C%20%27%23ffe3e3ff%27%2C%20%27%23ffe3e3ff%27%2C%20%27%23ffe3e3ff%27%2C%20%27%23ffe3e3ff%27%2C%20%27%23ffe3e3ff%27%2C%20%27%23ffe3e3ff%27%2C%20%27%23ffe3e3ff%27%2C%20%27%23ffe3e3ff%27%2C%20%27%23ffe3e3ff%27%2C%20%27%23ffe3e3ff%27%2C%20%27%23ffe3e3ff%27%2C%20%27%23ffe3e3ff%27%2C%20%27%23ffe3e3ff%27%2C%20%27%23ffe3e3ff%27%2C%20%27%23ffe3e3ff%27%2C%20%27%23ffe3e3ff%27%2C%20%27%23ffe3e3ff%27%2C%20%27%23ffe3e3ff%27%2C%20%27%23ffe3e3ff%27%2C%20%27%23ffe3e3ff%27%2C%20%27%23ffe3e3ff%27%2C%20%27%23ffe3e3ff%27%2C%20%27%23ffe3e3ff%27%2C%20%27%23ffe3e3ff%27%2C%20%27%23ffe3e3ff%27%2C%20%27%23ffe3e3ff%27%2C%20%27%23ffe3e3ff%27%2C%20%27%23ffe3e3ff%27%2C%20%27%23ffe3e3ff%27%2C%20%27%23ffe3e3ff%27%2C%20%27%23ffe3e3ff%27%2C%20%27%23ffe3e3ff%27%2C%20%27%23ffe3e3ff%27%2C%20%27%23ffe3e3ff%27%2C%20%27%23ffe3e3ff%27%2C%20%27%23ffe3e3ff%27%2C%20%27%23ffe3e3ff%27%2C%20%27%23ffe3e3ff%27%2C%20%27%23ffe3e3ff%27%2C%20%27%23ffe3e3ff%27%2C%20%27%23ffe3e3ff%27%2C%20%27%23ffe3e3ff%27%2C%20%27%23ffe3e3ff%27%2C%20%27%23ffaaaaff%27%2C%20%27%23ffaaaaff%27%2C%20%27%23ffaaaaff%27%2C%20%27%23ffaaaaff%27%2C%20%27%23ffaaaaff%27%2C%20%27%23ffaaaaff%27%2C%20%27%23ffaaaaff%27%2C%20%27%23ffaaaaff%27%2C%20%27%23ffaaaaff%27%2C%20%27%23ffaaaaff%27%2C%20%27%23ffaaaaff%27%2C%20%27%23ffaaaaff%27%2C%20%27%23ffaaaaff%27%2C%20%27%23ffaaaaff%27%2C%20%27%23ffaaaaff%27%2C%20%27%23ffaaaaff%27%2C%20%27%23ffaaaaff%27%2C%20%27%23ffaaaaff%27%2C%20%27%23ffaaaaff%27%2C%20%27%23ffaaaaff%27%2C%20%27%23ffaaaaff%27%2C%20%27%23ffaaaaff%27%2C%20%27%23ffaaaaff%27%2C%20%27%23ffaaaaff%27%2C%20%27%23ffaaaaff%27%2C%20%27%23ffaaaaff%27%2C%20%27%23ffaaaaff%27%2C%20%27%23ffaaaaff%27%2C%20%27%23ffaaaaff%27%2C%20%27%23ffaaaaff%27%2C%20%27%23ffaaaaff%27%2C%20%27%23ffaaaaff%27%2C%20%27%23ffaaaaff%27%2C%20%27%23ffaaaaff%27%2C%20%27%23ffaaaaff%27%2C%20%27%23ffaaaaff%27%2C%20%27%23ffaaaaff%27%2C%20%27%23ffaaaaff%27%2C%20%27%23ffaaaaff%27%2C%20%27%23ffaaaaff%27%2C%20%27%23ffaaaaff%27%2C%20%27%23ffaaaaff%27%2C%20%27%23ffaaaaff%27%2C%20%27%23ffaaaaff%27%2C%20%27%23ffaaaaff%27%2C%20%27%23ffaaaaff%27%2C%20%27%23ffaaaaff%27%2C%20%27%23ffaaaaff%27%2C%20%27%23ffaaaaff%27%2C%20%27%23ffaaaaff%27%2C%20%27%23ff7171ff%27%2C%20%27%23ff7171ff%27%2C%20%27%23ff7171ff%27%2C%20%27%23ff7171ff%27%2C%20%27%23ff7171ff%27%2C%20%27%23ff7171ff%27%2C%20%27%23ff7171ff%27%2C%20%27%23ff7171ff%27%2C%20%27%23ff7171ff%27%2C%20%27%23ff7171ff%27%2C%20%27%23ff7171ff%27%2C%20%27%23ff7171ff%27%2C%20%27%23ff7171ff%27%2C%20%27%23ff7171ff%27%2C%20%27%23ff7171ff%27%2C%20%27%23ff7171ff%27%2C%20%27%23ff7171ff%27%2C%20%27%23ff7171ff%27%2C%20%27%23ff7171ff%27%2C%20%27%23ff7171ff%27%2C%20%27%23ff7171ff%27%2C%20%27%23ff7171ff%27%2C%20%27%23ff7171ff%27%2C%20%27%23ff7171ff%27%2C%20%27%23ff7171ff%27%2C%20%27%23ff7171ff%27%2C%20%27%23ff7171ff%27%2C%20%27%23ff7171ff%27%2C%20%27%23ff7171ff%27%2C%20%27%23ff7171ff%27%2C%20%27%23ff7171ff%27%2C%20%27%23ff7171ff%27%2C%20%27%23ff7171ff%27%2C%20%27%23ff7171ff%27%2C%20%27%23ff7171ff%27%2C%20%27%23ff7171ff%27%2C%20%27%23ff7171ff%27%2C%20%27%23ff7171ff%27%2C%20%27%23ff7171ff%27%2C%20%27%23ff7171ff%27%2C%20%27%23ff7171ff%27%2C%20%27%23ff7171ff%27%2C%20%27%23ff7171ff%27%2C%20%27%23ff7171ff%27%2C%20%27%23ff7171ff%27%2C%20%27%23ff7171ff%27%2C%20%27%23ff7171ff%27%2C%20%27%23ff7171ff%27%2C%20%27%23ff7171ff%27%2C%20%27%23ff7171ff%27%2C%20%27%23ff3838ff%27%2C%20%27%23ff3838ff%27%2C%20%27%23ff3838ff%27%2C%20%27%23ff3838ff%27%2C%20%27%23ff3838ff%27%2C%20%27%23ff3838ff%27%2C%20%27%23ff3838ff%27%2C%20%27%23ff3838ff%27%2C%20%27%23ff3838ff%27%2C%20%27%23ff3838ff%27%2C%20%27%23ff3838ff%27%2C%20%27%23ff3838ff%27%2C%20%27%23ff3838ff%27%2C%20%27%23ff3838ff%27%2C%20%27%23ff3838ff%27%2C%20%27%23ff3838ff%27%2C%20%27%23ff3838ff%27%2C%20%27%23ff3838ff%27%2C%20%27%23ff3838ff%27%2C%20%27%23ff3838ff%27%2C%20%27%23ff3838ff%27%2C%20%27%23ff3838ff%27%2C%20%27%23ff3838ff%27%2C%20%27%23ff3838ff%27%2C%20%27%23ff3838ff%27%2C%20%27%23ff3838ff%27%2C%20%27%23ff3838ff%27%2C%20%27%23ff3838ff%27%2C%20%27%23ff3838ff%27%2C%20%27%23ff3838ff%27%2C%20%27%23ff3838ff%27%2C%20%27%23ff3838ff%27%2C%20%27%23ff3838ff%27%2C%20%27%23ff3838ff%27%2C%20%27%23ff3838ff%27%2C%20%27%23ff3838ff%27%2C%20%27%23ff3838ff%27%2C%20%27%23ff3838ff%27%2C%20%27%23ff3838ff%27%2C%20%27%23ff3838ff%27%2C%20%27%23ff3838ff%27%2C%20%27%23ff3838ff%27%2C%20%27%23ff3838ff%27%2C%20%27%23ff3838ff%27%2C%20%27%23ff3838ff%27%2C%20%27%23ff3838ff%27%2C%20%27%23ff3838ff%27%2C%20%27%23ff3838ff%27%2C%20%27%23ff3838ff%27%2C%20%27%23ff3838ff%27%2C%20%27%23ff0000ff%27%2C%20%27%23ff0000ff%27%2C%20%27%23ff0000ff%27%2C%20%27%23ff0000ff%27%2C%20%27%23ff0000ff%27%2C%20%27%23ff0000ff%27%2C%20%27%23ff0000ff%27%2C%20%27%23ff0000ff%27%2C%20%27%23ff0000ff%27%2C%20%27%23ff0000ff%27%2C%20%27%23ff0000ff%27%2C%20%27%23ff0000ff%27%2C%20%27%23ff0000ff%27%2C%20%27%23ff0000ff%27%2C%20%27%23ff0000ff%27%2C%20%27%23ff0000ff%27%2C%20%27%23ff0000ff%27%2C%20%27%23ff0000ff%27%2C%20%27%23ff0000ff%27%2C%20%27%23ff0000ff%27%2C%20%27%23ff0000ff%27%2C%20%27%23ff0000ff%27%2C%20%27%23ff0000ff%27%2C%20%27%23ff0000ff%27%2C%20%27%23ff0000ff%27%2C%20%27%23ff0000ff%27%2C%20%27%23ff0000ff%27%2C%20%27%23ff0000ff%27%2C%20%27%23ff0000ff%27%2C%20%27%23ff0000ff%27%2C%20%27%23ff0000ff%27%2C%20%27%23ff0000ff%27%2C%20%27%23ff0000ff%27%2C%20%27%23ff0000ff%27%2C%20%27%23ff0000ff%27%2C%20%27%23ff0000ff%27%2C%20%27%23ff0000ff%27%2C%20%27%23ff0000ff%27%2C%20%27%23ff0000ff%27%2C%20%27%23ff0000ff%27%2C%20%27%23ff0000ff%27%2C%20%27%23ff0000ff%27%2C%20%27%23ff0000ff%27%2C%20%27%23ff0000ff%27%2C%20%27%23ff0000ff%27%2C%20%27%23ff0000ff%27%2C%20%27%23ff0000ff%27%2C%20%27%23ff0000ff%27%2C%20%27%23ff0000ff%27%2C%20%27%23ff0000ff%27%5D%29%3B%0A%20%20%20%20%0A%0A%20%20%20%20color_map_8852403b257d49aab1e276c5953e32ce.x%20%3D%20d3.scale.linear%28%29%0A%20%20%20%20%20%20%20%20%20%20%20%20%20%20.domain%28%5B1173.4304188873807%2C%203292.4187825520835%5D%29%0A%20%20%20%20%20%20%20%20%20%20%20%20%20%20.range%28%5B0%2C%20400%5D%29%3B%0A%0A%20%20%20%20color_map_8852403b257d49aab1e276c5953e32ce.legend%20%3D%20L.control%28%7Bposition%3A%20%27topright%27%7D%29%3B%0A%20%20%20%20color_map_8852403b257d49aab1e276c5953e32ce.legend.onAdd%20%3D%20function%20%28map%29%20%7Bvar%20div%20%3D%20L.DomUtil.create%28%27div%27%2C%20%27legend%27%29%3B%20return%20div%7D%3B%0A%20%20%20%20color_map_8852403b257d49aab1e276c5953e32ce.legend.addTo%28map_a6b10c8f3e814009b91eb6dfbb1cc8c0%29%3B%0A%0A%20%20%20%20color_map_8852403b257d49aab1e276c5953e32ce.xAxis%20%3D%20d3.svg.axis%28%29%0A%20%20%20%20%20%20%20%20.scale%28color_map_8852403b257d49aab1e276c5953e32ce.x%29%0A%20%20%20%20%20%20%20%20.orient%28%22top%22%29%0A%20%20%20%20%20%20%20%20.tickSize%281%29%0A%20%20%20%20%20%20%20%20.tickValues%28%5B1173.4304188873807%2C%20%27%27%2C%201597.2280916203213%2C%20%27%27%2C%202021.0257643532618%2C%20%27%27%2C%202444.8234370862024%2C%20%27%27%2C%202868.621109819143%2C%20%27%27%2C%203292.4187825520835%2C%20%27%27%5D%29%3B%0A%0A%20%20%20%20color_map_8852403b257d49aab1e276c5953e32ce.svg%20%3D%20d3.select%28%22.legend.leaflet-control%22%29.append%28%22svg%22%29%0A%20%20%20%20%20%20%20%20.attr%28%22id%22%2C%20%27legend%27%29%0A%20%20%20%20%20%20%20%20.attr%28%22width%22%2C%20450%29%0A%20%20%20%20%20%20%20%20.attr%28%22height%22%2C%2040%29%3B%0A%0A%20%20%20%20color_map_8852403b257d49aab1e276c5953e32ce.g%20%3D%20color_map_8852403b257d49aab1e276c5953e32ce.svg.append%28%22g%22%29%0A%20%20%20%20%20%20%20%20.attr%28%22class%22%2C%20%22key%22%29%0A%20%20%20%20%20%20%20%20.attr%28%22transform%22%2C%20%22translate%2825%2C16%29%22%29%3B%0A%0A%20%20%20%20color_map_8852403b257d49aab1e276c5953e32ce.g.selectAll%28%22rect%22%29%0A%20%20%20%20%20%20%20%20.data%28color_map_8852403b257d49aab1e276c5953e32ce.color.range%28%29.map%28function%28d%2C%20i%29%20%7B%0A%20%20%20%20%20%20%20%20%20%20return%20%7B%0A%20%20%20%20%20%20%20%20%20%20%20%20x0%3A%20i%20%3F%20color_map_8852403b257d49aab1e276c5953e32ce.x%28color_map_8852403b257d49aab1e276c5953e32ce.color.domain%28%29%5Bi%20-%201%5D%29%20%3A%20color_map_8852403b257d49aab1e276c5953e32ce.x.range%28%29%5B0%5D%2C%0A%20%20%20%20%20%20%20%20%20%20%20%20x1%3A%20i%20%3C%20color_map_8852403b257d49aab1e276c5953e32ce.color.domain%28%29.length%20%3F%20color_map_8852403b257d49aab1e276c5953e32ce.x%28color_map_8852403b257d49aab1e276c5953e32ce.color.domain%28%29%5Bi%5D%29%20%3A%20color_map_8852403b257d49aab1e276c5953e32ce.x.range%28%29%5B1%5D%2C%0A%20%20%20%20%20%20%20%20%20%20%20%20z%3A%20d%0A%20%20%20%20%20%20%20%20%20%20%7D%3B%0A%20%20%20%20%20%20%20%20%7D%29%29%0A%20%20%20%20%20%20.enter%28%29.append%28%22rect%22%29%0A%20%20%20%20%20%20%20%20.attr%28%22height%22%2C%2010%29%0A%20%20%20%20%20%20%20%20.attr%28%22x%22%2C%20function%28d%29%20%7B%20return%20d.x0%3B%20%7D%29%0A%20%20%20%20%20%20%20%20.attr%28%22width%22%2C%20function%28d%29%20%7B%20return%20d.x1%20-%20d.x0%3B%20%7D%29%0A%20%20%20%20%20%20%20%20.style%28%22fill%22%2C%20function%28d%29%20%7B%20return%20d.z%3B%20%7D%29%3B%0A%0A%20%20%20%20color_map_8852403b257d49aab1e276c5953e32ce.g.call%28color_map_8852403b257d49aab1e276c5953e32ce.xAxis%29.append%28%22text%22%29%0A%20%20%20%20%20%20%20%20.attr%28%22class%22%2C%20%22caption%22%29%0A%20%20%20%20%20%20%20%20.attr%28%22y%22%2C%2021%29%0A%20%20%20%20%20%20%20%20.text%28%27Elevation%27%29%3B%0A%20%20%20%20var%20tile_layer_6185a016545c4b2ba545a4613b0a574b%20%3D%20L.tileLayer%28%0A%20%20%20%20%20%20%20%20%27https%3A//earthengine.googleapis.com/v1alpha/projects/earthengine-legacy/maps/6698ad3dd913adb12f46de1e4de44576-a91a3eab0d2850c90d91047ca6e04db0/tiles/%7Bz%7D/%7Bx%7D/%7By%7D%27%2C%0A%20%20%20%20%20%20%20%20%7B%0A%20%20%20%20%20%20%20%20%22attribution%22%3A%20%22Google%20Earth%20Engine%22%2C%0A%20%20%20%20%20%20%20%20%22detectRetina%22%3A%20false%2C%0A%20%20%20%20%20%20%20%20%22maxNativeZoom%22%3A%2018%2C%0A%20%20%20%20%20%20%20%20%22maxZoom%22%3A%2018%2C%0A%20%20%20%20%20%20%20%20%22minZoom%22%3A%200%2C%0A%20%20%20%20%20%20%20%20%22noWrap%22%3A%20false%2C%0A%20%20%20%20%20%20%20%20%22opacity%22%3A%201%2C%0A%20%20%20%20%20%20%20%20%22subdomains%22%3A%20%22abc%22%2C%0A%20%20%20%20%20%20%20%20%22tms%22%3A%20false%0A%7D%29.addTo%28map_a6b10c8f3e814009b91eb6dfbb1cc8c0%29%3B%0A%20%20%20%20%0A%20%20%20%20var%20color_map_a368ba494a704203b38f016ba26c5f55%20%3D%20%7B%7D%3B%0A%0A%20%20%20%20%0A%20%20%20%20color_map_a368ba494a704203b38f016ba26c5f55.color%20%3D%20d3.scale.threshold%28%29%0A%20%20%20%20%20%20%20%20%20%20%20%20%20%20.domain%28%5B8.292080760002136%2C%208.43726458912622%2C%208.582448418250303%2C%208.727632247374387%2C%208.872816076498472%2C%209.017999905622554%2C%209.163183734746639%2C%209.308367563870723%2C%209.453551392994806%2C%209.59873522211889%2C%209.743919051242974%2C%209.889102880367057%2C%2010.034286709491141%2C%2010.179470538615226%2C%2010.324654367739308%2C%2010.469838196863392%2C%2010.615022025987475%2C%2010.76020585511156%2C%2010.905389684235644%2C%2011.050573513359726%2C%2011.19575734248381%2C%2011.340941171607895%2C%2011.486125000731978%2C%2011.631308829856062%2C%2011.776492658980146%2C%2011.921676488104229%2C%2012.066860317228313%2C%2012.212044146352397%2C%2012.35722797547648%2C%2012.502411804600564%2C%2012.647595633724649%2C%2012.792779462848731%2C%2012.937963291972816%2C%2013.0831471210969%2C%2013.228330950220982%2C%2013.373514779345067%2C%2013.518698608469151%2C%2013.663882437593234%2C%2013.809066266717318%2C%2013.954250095841402%2C%2014.099433924965485%2C%2014.24461775408957%2C%2014.389801583213654%2C%2014.534985412337736%2C%2014.68016924146182%2C%2014.825353070585905%2C%2014.970536899709987%2C%2015.115720728834072%2C%2015.260904557958156%2C%2015.406088387082239%2C%2015.551272216206323%2C%2015.696456045330407%2C%2015.84163987445449%2C%2015.986823703578574%2C%2016.13200753270266%2C%2016.27719136182674%2C%2016.422375190950824%2C%2016.56755902007491%2C%2016.712742849198992%2C%2016.857926678323075%2C%2017.00311050744716%2C%2017.148294336571244%2C%2017.293478165695326%2C%2017.438661994819412%2C%2017.583845823943495%2C%2017.729029653067577%2C%2017.874213482191664%2C%2018.019397311315746%2C%2018.16458114043983%2C%2018.309764969563915%2C%2018.454948798687997%2C%2018.60013262781208%2C%2018.745316456936166%2C%2018.89050028606025%2C%2019.03568411518433%2C%2019.180867944308417%2C%2019.3260517734325%2C%2019.471235602556582%2C%2019.61641943168067%2C%2019.76160326080475%2C%2019.906787089928834%2C%2020.05197091905292%2C%2020.197154748177002%2C%2020.342338577301085%2C%2020.48752240642517%2C%2020.632706235549254%2C%2020.777890064673336%2C%2020.923073893797422%2C%2021.068257722921505%2C%2021.213441552045587%2C%2021.358625381169674%2C%2021.503809210293756%2C%2021.64899303941784%2C%2021.794176868541925%2C%2021.939360697666007%2C%2022.08454452679009%2C%2022.229728355914176%2C%2022.37491218503826%2C%2022.52009601416234%2C%2022.665279843286427%2C%2022.81046367241051%2C%2022.955647501534592%2C%2023.10083133065868%2C%2023.24601515978276%2C%2023.391198988906844%2C%2023.53638281803093%2C%2023.681566647155012%2C%2023.826750476279095%2C%2023.97193430540318%2C%2024.117118134527264%2C%2024.262301963651346%2C%2024.407485792775432%2C%2024.552669621899515%2C%2024.697853451023597%2C%2024.843037280147684%2C%2024.988221109271766%2C%2025.13340493839585%2C%2025.278588767519935%2C%2025.423772596644017%2C%2025.5689564257681%2C%2025.714140254892186%2C%2025.85932408401627%2C%2026.00450791314035%2C%2026.149691742264437%2C%2026.29487557138852%2C%2026.440059400512602%2C%2026.58524322963669%2C%2026.73042705876077%2C%2026.875610887884854%2C%2027.02079471700894%2C%2027.165978546133022%2C%2027.311162375257105%2C%2027.45634620438119%2C%2027.601530033505274%2C%2027.746713862629356%2C%2027.891897691753442%2C%2028.037081520877525%2C%2028.182265350001607%2C%2028.327449179125693%2C%2028.472633008249776%2C%2028.61781683737386%2C%2028.763000666497945%2C%2028.908184495622027%2C%2029.05336832474611%2C%2029.198552153870196%2C%2029.34373598299428%2C%2029.48891981211836%2C%2029.634103641242447%2C%2029.77928747036653%2C%2029.924471299490612%2C%2030.0696551286147%2C%2030.21483895773878%2C%2030.360022786862864%2C%2030.50520661598695%2C%2030.650390445111032%2C%2030.795574274235115%2C%2030.9407581033592%2C%2031.085941932483284%2C%2031.231125761607366%2C%2031.376309590731452%2C%2031.521493419855535%2C%2031.666677248979617%2C%2031.811861078103703%2C%2031.957044907227786%2C%2032.10222873635187%2C%2032.247412565475955%2C%2032.392596394600034%2C%2032.53778022372412%2C%2032.682964052848206%2C%2032.828147881972285%2C%2032.97333171109637%2C%2033.11851554022046%2C%2033.263699369344536%2C%2033.40888319846862%2C%2033.55406702759271%2C%2033.69925085671679%2C%2033.844434685840874%2C%2033.98961851496496%2C%2034.13480234408904%2C%2034.279986173213125%2C%2034.42517000233721%2C%2034.57035383146129%2C%2034.715537660585376%2C%2034.86072148970946%2C%2035.00590531883354%2C%2035.15108914795763%2C%2035.29627297708171%2C%2035.44145680620579%2C%2035.58664063532988%2C%2035.731824464453965%2C%2035.877008293578044%2C%2036.02219212270213%2C%2036.167375951826216%2C%2036.312559780950295%2C%2036.45774361007438%2C%2036.60292743919847%2C%2036.748111268322546%2C%2036.89329509744663%2C%2037.03847892657072%2C%2037.1836627556948%2C%2037.32884658481888%2C%2037.47403041394297%2C%2037.61921424306705%2C%2037.764398072191135%2C%2037.90958190131522%2C%2038.0547657304393%2C%2038.199949559563386%2C%2038.34513338868747%2C%2038.49031721781155%2C%2038.63550104693564%2C%2038.78068487605972%2C%2038.9258687051838%2C%2039.07105253430789%2C%2039.216236363431975%2C%2039.361420192556054%2C%2039.50660402168014%2C%2039.651787850804226%2C%2039.796971679928305%2C%2039.94215550905239%2C%2040.08733933817648%2C%2040.232523167300556%2C%2040.37770699642464%2C%2040.52289082554873%2C%2040.66807465467281%2C%2040.81325848379689%2C%2040.95844231292098%2C%2041.10362614204506%2C%2041.248809971169145%2C%2041.39399380029323%2C%2041.53917762941731%2C%2041.684361458541396%2C%2041.82954528766548%2C%2041.97472911678956%2C%2042.11991294591365%2C%2042.26509677503773%2C%2042.41028060416181%2C%2042.5554644332859%2C%2042.700648262409985%2C%2042.845832091534064%2C%2042.99101592065815%2C%2043.136199749782236%2C%2043.281383578906315%2C%2043.4265674080304%2C%2043.57175123715449%2C%2043.716935066278566%2C%2043.86211889540265%2C%2044.00730272452674%2C%2044.15248655365082%2C%2044.2976703827749%2C%2044.44285421189899%2C%2044.58803804102307%2C%2044.733221870147155%2C%2044.87840569927124%2C%2045.02358952839532%2C%2045.168773357519406%2C%2045.31395718664349%2C%2045.45914101576757%2C%2045.60432484489166%2C%2045.74950867401574%2C%2045.89469250313982%2C%2046.03987633226391%2C%2046.185060161387995%2C%2046.33024399051207%2C%2046.47542781963616%2C%2046.620611648760246%2C%2046.765795477884325%2C%2046.91097930700841%2C%2047.0561631361325%2C%2047.201346965256576%2C%2047.34653079438066%2C%2047.49171462350475%2C%2047.63689845262883%2C%2047.78208228175291%2C%2047.927266110877%2C%2048.07244994000108%2C%2048.217633769125165%2C%2048.36281759824925%2C%2048.50800142737333%2C%2048.653185256497416%2C%2048.7983690856215%2C%2048.94355291474558%2C%2049.08873674386967%2C%2049.23392057299375%2C%2049.37910440211783%2C%2049.52428823124192%2C%2049.669472060366004%2C%2049.81465588949008%2C%2049.95983971861417%2C%2050.105023547738256%2C%2050.250207376862335%2C%2050.39539120598642%2C%2050.54057503511051%2C%2050.685758864234586%2C%2050.83094269335867%2C%2050.97612652248276%2C%2051.12131035160684%2C%2051.26649418073092%2C%2051.41167800985501%2C%2051.55686183897909%2C%2051.702045668103175%2C%2051.84722949722726%2C%2051.99241332635134%2C%2052.137597155475426%2C%2052.28278098459951%2C%2052.42796481372359%2C%2052.57314864284768%2C%2052.71833247197176%2C%2052.86351630109584%2C%2053.00870013021993%2C%2053.153883959344014%2C%2053.29906778846809%2C%2053.44425161759218%2C%2053.589435446716266%2C%2053.734619275840345%2C%2053.87980310496443%2C%2054.02498693408852%2C%2054.170170763212596%2C%2054.31535459233668%2C%2054.46053842146077%2C%2054.60572225058485%2C%2054.75090607970893%2C%2054.89608990883302%2C%2055.0412737379571%2C%2055.186457567081185%2C%2055.33164139620527%2C%2055.47682522532935%2C%2055.622009054453436%2C%2055.76719288357752%2C%2055.9123767127016%2C%2056.05756054182569%2C%2056.20274437094977%2C%2056.34792820007385%2C%2056.49311202919794%2C%2056.638295858322024%2C%2056.7834796874461%2C%2056.92866351657019%2C%2057.073847345694276%2C%2057.219031174818355%2C%2057.36421500394244%2C%2057.50939883306653%2C%2057.654582662190606%2C%2057.79976649131469%2C%2057.94495032043878%2C%2058.09013414956286%2C%2058.23531797868694%2C%2058.38050180781103%2C%2058.52568563693511%2C%2058.670869466059195%2C%2058.81605329518328%2C%2058.96123712430736%2C%2059.106420953431446%2C%2059.25160478255553%2C%2059.39678861167961%2C%2059.5419724408037%2C%2059.68715626992778%2C%2059.83234009905186%2C%2059.97752392817595%2C%2060.122707757300034%2C%2060.26789158642411%2C%2060.4130754155482%2C%2060.558259244672286%2C%2060.703443073796365%2C%2060.84862690292045%2C%2060.99381073204454%2C%2061.138994561168616%2C%2061.2841783902927%2C%2061.42936221941679%2C%2061.57454604854087%2C%2061.71972987766495%2C%2061.86491370678904%2C%2062.01009753591312%2C%2062.155281365037204%2C%2062.30046519416129%2C%2062.44564902328537%2C%2062.590832852409456%2C%2062.736016681533535%2C%2062.88120051065762%2C%2063.02638433978171%2C%2063.171568168905786%2C%2063.31675199802987%2C%2063.46193582715396%2C%2063.60711965627804%2C%2063.75230348540212%2C%2063.89748731452621%2C%2064.0426711436503%2C%2064.18785497277437%2C%2064.33303880189845%2C%2064.47822263102253%2C%2064.62340646014663%2C%2064.76859028927072%2C%2064.9137741183948%2C%2065.05895794751888%2C%2065.20414177664296%2C%2065.34932560576704%2C%2065.49450943489113%2C%2065.63969326401522%2C%2065.7848770931393%2C%2065.93006092226338%2C%2066.07524475138746%2C%2066.22042858051154%2C%2066.36561240963563%2C%2066.51079623875972%2C%2066.6559800678838%2C%2066.80116389700788%2C%2066.94634772613196%2C%2067.09153155525604%2C%2067.23671538438013%2C%2067.38189921350423%2C%2067.5270830426283%2C%2067.67226687175238%2C%2067.81745070087646%2C%2067.96263453000054%2C%2068.10781835912464%2C%2068.25300218824873%2C%2068.39818601737281%2C%2068.54336984649689%2C%2068.68855367562097%2C%2068.83373750474505%2C%2068.97892133386914%2C%2069.12410516299323%2C%2069.26928899211731%2C%2069.41447282124139%2C%2069.55965665036547%2C%2069.70484047948955%2C%2069.85002430861364%2C%2069.99520813773773%2C%2070.14039196686181%2C%2070.28557579598589%2C%2070.43075962510997%2C%2070.57594345423405%2C%2070.72112728335814%2C%2070.86631111248224%2C%2071.01149494160632%2C%2071.1566787707304%2C%2071.30186259985447%2C%2071.44704642897855%2C%2071.59223025810265%2C%2071.73741408722674%2C%2071.88259791635082%2C%2072.0277817454749%2C%2072.17296557459898%2C%2072.31814940372307%2C%2072.46333323284715%2C%2072.60851706197123%2C%2072.75370089109532%2C%2072.8988847202194%2C%2073.04406854934348%2C%2073.18925237846757%2C%2073.33443620759165%2C%2073.47962003671573%2C%2073.62480386583982%2C%2073.7699876949639%2C%2073.91517152408798%2C%2074.06035535321207%2C%2074.20553918233615%2C%2074.35072301146023%2C%2074.49590684058433%2C%2074.6410906697084%2C%2074.78627449883248%2C%2074.93145832795658%2C%2075.07664215708066%2C%2075.22182598620473%2C%2075.36700981532883%2C%2075.5121936444529%2C%2075.65737747357699%2C%2075.80256130270108%2C%2075.94774513182516%2C%2076.09292896094924%2C%2076.23811279007333%2C%2076.38329661919741%2C%2076.52848044832149%2C%2076.67366427744558%2C%2076.81884810656966%2C%2076.96403193569374%2C%2077.10921576481783%2C%2077.25439959394191%2C%2077.39958342306599%2C%2077.54476725219008%2C%2077.68995108131416%2C%2077.83513491043824%2C%2077.98031873956234%2C%2078.12550256868641%2C%2078.2706863978105%2C%2078.41587022693459%2C%2078.56105405605867%2C%2078.70623788518274%2C%2078.85142171430684%2C%2078.99660554343092%2C%2079.141789372555%2C%2079.28697320167909%2C%2079.43215703080317%2C%2079.57734085992725%2C%2079.72252468905134%2C%2079.86770851817542%2C%2080.0128923472995%2C%2080.15807617642359%2C%2080.30326000554767%2C%2080.44844383467175%2C%2080.59362766379584%2C%2080.73881149291992%5D%29%0A%20%20%20%20%20%20%20%20%20%20%20%20%20%20.range%28%5B%27%230000ffff%27%2C%20%27%230000ffff%27%2C%20%27%230000ffff%27%2C%20%27%230000ffff%27%2C%20%27%230000ffff%27%2C%20%27%230000ffff%27%2C%20%27%230000ffff%27%2C%20%27%230000ffff%27%2C%20%27%230000ffff%27%2C%20%27%230000ffff%27%2C%20%27%230000ffff%27%2C%20%27%230000ffff%27%2C%20%27%230000ffff%27%2C%20%27%230000ffff%27%2C%20%27%230000ffff%27%2C%20%27%230000ffff%27%2C%20%27%230000ffff%27%2C%20%27%230000ffff%27%2C%20%27%230000ffff%27%2C%20%27%230000ffff%27%2C%20%27%230000ffff%27%2C%20%27%230000ffff%27%2C%20%27%230000ffff%27%2C%20%27%230000ffff%27%2C%20%27%230000ffff%27%2C%20%27%230000ffff%27%2C%20%27%230000ffff%27%2C%20%27%230000ffff%27%2C%20%27%230000ffff%27%2C%20%27%230000ffff%27%2C%20%27%230000ffff%27%2C%20%27%230000ffff%27%2C%20%27%230000ffff%27%2C%20%27%230000ffff%27%2C%20%27%230000ffff%27%2C%20%27%230000ffff%27%2C%20%27%230000ffff%27%2C%20%27%230000ffff%27%2C%20%27%230000ffff%27%2C%20%27%230000ffff%27%2C%20%27%230000ffff%27%2C%20%27%230000ffff%27%2C%20%27%230000ffff%27%2C%20%27%230000ffff%27%2C%20%27%230000ffff%27%2C%20%27%230000ffff%27%2C%20%27%230000ffff%27%2C%20%27%230000ffff%27%2C%20%27%230000ffff%27%2C%20%27%230000ffff%27%2C%20%27%233838ffff%27%2C%20%27%233838ffff%27%2C%20%27%233838ffff%27%2C%20%27%233838ffff%27%2C%20%27%233838ffff%27%2C%20%27%233838ffff%27%2C%20%27%233838ffff%27%2C%20%27%233838ffff%27%2C%20%27%233838ffff%27%2C%20%27%233838ffff%27%2C%20%27%233838ffff%27%2C%20%27%233838ffff%27%2C%20%27%233838ffff%27%2C%20%27%233838ffff%27%2C%20%27%233838ffff%27%2C%20%27%233838ffff%27%2C%20%27%233838ffff%27%2C%20%27%233838ffff%27%2C%20%27%233838ffff%27%2C%20%27%233838ffff%27%2C%20%27%233838ffff%27%2C%20%27%233838ffff%27%2C%20%27%233838ffff%27%2C%20%27%233838ffff%27%2C%20%27%233838ffff%27%2C%20%27%233838ffff%27%2C%20%27%233838ffff%27%2C%20%27%233838ffff%27%2C%20%27%233838ffff%27%2C%20%27%233838ffff%27%2C%20%27%233838ffff%27%2C%20%27%233838ffff%27%2C%20%27%233838ffff%27%2C%20%27%233838ffff%27%2C%20%27%233838ffff%27%2C%20%27%233838ffff%27%2C%20%27%233838ffff%27%2C%20%27%233838ffff%27%2C%20%27%233838ffff%27%2C%20%27%233838ffff%27%2C%20%27%233838ffff%27%2C%20%27%233838ffff%27%2C%20%27%233838ffff%27%2C%20%27%233838ffff%27%2C%20%27%233838ffff%27%2C%20%27%233838ffff%27%2C%20%27%233838ffff%27%2C%20%27%233838ffff%27%2C%20%27%233838ffff%27%2C%20%27%233838ffff%27%2C%20%27%237171ffff%27%2C%20%27%237171ffff%27%2C%20%27%237171ffff%27%2C%20%27%237171ffff%27%2C%20%27%237171ffff%27%2C%20%27%237171ffff%27%2C%20%27%237171ffff%27%2C%20%27%237171ffff%27%2C%20%27%237171ffff%27%2C%20%27%237171ffff%27%2C%20%27%237171ffff%27%2C%20%27%237171ffff%27%2C%20%27%237171ffff%27%2C%20%27%237171ffff%27%2C%20%27%237171ffff%27%2C%20%27%237171ffff%27%2C%20%27%237171ffff%27%2C%20%27%237171ffff%27%2C%20%27%237171ffff%27%2C%20%27%237171ffff%27%2C%20%27%237171ffff%27%2C%20%27%237171ffff%27%2C%20%27%237171ffff%27%2C%20%27%237171ffff%27%2C%20%27%237171ffff%27%2C%20%27%237171ffff%27%2C%20%27%237171ffff%27%2C%20%27%237171ffff%27%2C%20%27%237171ffff%27%2C%20%27%237171ffff%27%2C%20%27%237171ffff%27%2C%20%27%237171ffff%27%2C%20%27%237171ffff%27%2C%20%27%237171ffff%27%2C%20%27%237171ffff%27%2C%20%27%237171ffff%27%2C%20%27%237171ffff%27%2C%20%27%237171ffff%27%2C%20%27%237171ffff%27%2C%20%27%237171ffff%27%2C%20%27%237171ffff%27%2C%20%27%237171ffff%27%2C%20%27%237171ffff%27%2C%20%27%237171ffff%27%2C%20%27%237171ffff%27%2C%20%27%237171ffff%27%2C%20%27%237171ffff%27%2C%20%27%237171ffff%27%2C%20%27%237171ffff%27%2C%20%27%237171ffff%27%2C%20%27%23aaaaffff%27%2C%20%27%23aaaaffff%27%2C%20%27%23aaaaffff%27%2C%20%27%23aaaaffff%27%2C%20%27%23aaaaffff%27%2C%20%27%23aaaaffff%27%2C%20%27%23aaaaffff%27%2C%20%27%23aaaaffff%27%2C%20%27%23aaaaffff%27%2C%20%27%23aaaaffff%27%2C%20%27%23aaaaffff%27%2C%20%27%23aaaaffff%27%2C%20%27%23aaaaffff%27%2C%20%27%23aaaaffff%27%2C%20%27%23aaaaffff%27%2C%20%27%23aaaaffff%27%2C%20%27%23aaaaffff%27%2C%20%27%23aaaaffff%27%2C%20%27%23aaaaffff%27%2C%20%27%23aaaaffff%27%2C%20%27%23aaaaffff%27%2C%20%27%23aaaaffff%27%2C%20%27%23aaaaffff%27%2C%20%27%23aaaaffff%27%2C%20%27%23aaaaffff%27%2C%20%27%23aaaaffff%27%2C%20%27%23aaaaffff%27%2C%20%27%23aaaaffff%27%2C%20%27%23aaaaffff%27%2C%20%27%23aaaaffff%27%2C%20%27%23aaaaffff%27%2C%20%27%23aaaaffff%27%2C%20%27%23aaaaffff%27%2C%20%27%23aaaaffff%27%2C%20%27%23aaaaffff%27%2C%20%27%23aaaaffff%27%2C%20%27%23aaaaffff%27%2C%20%27%23aaaaffff%27%2C%20%27%23aaaaffff%27%2C%20%27%23aaaaffff%27%2C%20%27%23aaaaffff%27%2C%20%27%23aaaaffff%27%2C%20%27%23aaaaffff%27%2C%20%27%23aaaaffff%27%2C%20%27%23aaaaffff%27%2C%20%27%23aaaaffff%27%2C%20%27%23aaaaffff%27%2C%20%27%23aaaaffff%27%2C%20%27%23aaaaffff%27%2C%20%27%23aaaaffff%27%2C%20%27%23e3e3ffff%27%2C%20%27%23e3e3ffff%27%2C%20%27%23e3e3ffff%27%2C%20%27%23e3e3ffff%27%2C%20%27%23e3e3ffff%27%2C%20%27%23e3e3ffff%27%2C%20%27%23e3e3ffff%27%2C%20%27%23e3e3ffff%27%2C%20%27%23e3e3ffff%27%2C%20%27%23e3e3ffff%27%2C%20%27%23e3e3ffff%27%2C%20%27%23e3e3ffff%27%2C%20%27%23e3e3ffff%27%2C%20%27%23e3e3ffff%27%2C%20%27%23e3e3ffff%27%2C%20%27%23e3e3ffff%27%2C%20%27%23e3e3ffff%27%2C%20%27%23e3e3ffff%27%2C%20%27%23e3e3ffff%27%2C%20%27%23e3e3ffff%27%2C%20%27%23e3e3ffff%27%2C%20%27%23e3e3ffff%27%2C%20%27%23e3e3ffff%27%2C%20%27%23e3e3ffff%27%2C%20%27%23e3e3ffff%27%2C%20%27%23e3e3ffff%27%2C%20%27%23e3e3ffff%27%2C%20%27%23e3e3ffff%27%2C%20%27%23e3e3ffff%27%2C%20%27%23e3e3ffff%27%2C%20%27%23e3e3ffff%27%2C%20%27%23e3e3ffff%27%2C%20%27%23e3e3ffff%27%2C%20%27%23e3e3ffff%27%2C%20%27%23e3e3ffff%27%2C%20%27%23e3e3ffff%27%2C%20%27%23e3e3ffff%27%2C%20%27%23e3e3ffff%27%2C%20%27%23e3e3ffff%27%2C%20%27%23e3e3ffff%27%2C%20%27%23e3e3ffff%27%2C%20%27%23e3e3ffff%27%2C%20%27%23e3e3ffff%27%2C%20%27%23e3e3ffff%27%2C%20%27%23e3e3ffff%27%2C%20%27%23e3e3ffff%27%2C%20%27%23e3e3ffff%27%2C%20%27%23e3e3ffff%27%2C%20%27%23e3e3ffff%27%2C%20%27%23e3e3ffff%27%2C%20%27%23ffe3e3ff%27%2C%20%27%23ffe3e3ff%27%2C%20%27%23ffe3e3ff%27%2C%20%27%23ffe3e3ff%27%2C%20%27%23ffe3e3ff%27%2C%20%27%23ffe3e3ff%27%2C%20%27%23ffe3e3ff%27%2C%20%27%23ffe3e3ff%27%2C%20%27%23ffe3e3ff%27%2C%20%27%23ffe3e3ff%27%2C%20%27%23ffe3e3ff%27%2C%20%27%23ffe3e3ff%27%2C%20%27%23ffe3e3ff%27%2C%20%27%23ffe3e3ff%27%2C%20%27%23ffe3e3ff%27%2C%20%27%23ffe3e3ff%27%2C%20%27%23ffe3e3ff%27%2C%20%27%23ffe3e3ff%27%2C%20%27%23ffe3e3ff%27%2C%20%27%23ffe3e3ff%27%2C%20%27%23ffe3e3ff%27%2C%20%27%23ffe3e3ff%27%2C%20%27%23ffe3e3ff%27%2C%20%27%23ffe3e3ff%27%2C%20%27%23ffe3e3ff%27%2C%20%27%23ffe3e3ff%27%2C%20%27%23ffe3e3ff%27%2C%20%27%23ffe3e3ff%27%2C%20%27%23ffe3e3ff%27%2C%20%27%23ffe3e3ff%27%2C%20%27%23ffe3e3ff%27%2C%20%27%23ffe3e3ff%27%2C%20%27%23ffe3e3ff%27%2C%20%27%23ffe3e3ff%27%2C%20%27%23ffe3e3ff%27%2C%20%27%23ffe3e3ff%27%2C%20%27%23ffe3e3ff%27%2C%20%27%23ffe3e3ff%27%2C%20%27%23ffe3e3ff%27%2C%20%27%23ffe3e3ff%27%2C%20%27%23ffe3e3ff%27%2C%20%27%23ffe3e3ff%27%2C%20%27%23ffe3e3ff%27%2C%20%27%23ffe3e3ff%27%2C%20%27%23ffe3e3ff%27%2C%20%27%23ffe3e3ff%27%2C%20%27%23ffe3e3ff%27%2C%20%27%23ffe3e3ff%27%2C%20%27%23ffe3e3ff%27%2C%20%27%23ffe3e3ff%27%2C%20%27%23ffaaaaff%27%2C%20%27%23ffaaaaff%27%2C%20%27%23ffaaaaff%27%2C%20%27%23ffaaaaff%27%2C%20%27%23ffaaaaff%27%2C%20%27%23ffaaaaff%27%2C%20%27%23ffaaaaff%27%2C%20%27%23ffaaaaff%27%2C%20%27%23ffaaaaff%27%2C%20%27%23ffaaaaff%27%2C%20%27%23ffaaaaff%27%2C%20%27%23ffaaaaff%27%2C%20%27%23ffaaaaff%27%2C%20%27%23ffaaaaff%27%2C%20%27%23ffaaaaff%27%2C%20%27%23ffaaaaff%27%2C%20%27%23ffaaaaff%27%2C%20%27%23ffaaaaff%27%2C%20%27%23ffaaaaff%27%2C%20%27%23ffaaaaff%27%2C%20%27%23ffaaaaff%27%2C%20%27%23ffaaaaff%27%2C%20%27%23ffaaaaff%27%2C%20%27%23ffaaaaff%27%2C%20%27%23ffaaaaff%27%2C%20%27%23ffaaaaff%27%2C%20%27%23ffaaaaff%27%2C%20%27%23ffaaaaff%27%2C%20%27%23ffaaaaff%27%2C%20%27%23ffaaaaff%27%2C%20%27%23ffaaaaff%27%2C%20%27%23ffaaaaff%27%2C%20%27%23ffaaaaff%27%2C%20%27%23ffaaaaff%27%2C%20%27%23ffaaaaff%27%2C%20%27%23ffaaaaff%27%2C%20%27%23ffaaaaff%27%2C%20%27%23ffaaaaff%27%2C%20%27%23ffaaaaff%27%2C%20%27%23ffaaaaff%27%2C%20%27%23ffaaaaff%27%2C%20%27%23ffaaaaff%27%2C%20%27%23ffaaaaff%27%2C%20%27%23ffaaaaff%27%2C%20%27%23ffaaaaff%27%2C%20%27%23ffaaaaff%27%2C%20%27%23ffaaaaff%27%2C%20%27%23ffaaaaff%27%2C%20%27%23ffaaaaff%27%2C%20%27%23ffaaaaff%27%2C%20%27%23ff7171ff%27%2C%20%27%23ff7171ff%27%2C%20%27%23ff7171ff%27%2C%20%27%23ff7171ff%27%2C%20%27%23ff7171ff%27%2C%20%27%23ff7171ff%27%2C%20%27%23ff7171ff%27%2C%20%27%23ff7171ff%27%2C%20%27%23ff7171ff%27%2C%20%27%23ff7171ff%27%2C%20%27%23ff7171ff%27%2C%20%27%23ff7171ff%27%2C%20%27%23ff7171ff%27%2C%20%27%23ff7171ff%27%2C%20%27%23ff7171ff%27%2C%20%27%23ff7171ff%27%2C%20%27%23ff7171ff%27%2C%20%27%23ff7171ff%27%2C%20%27%23ff7171ff%27%2C%20%27%23ff7171ff%27%2C%20%27%23ff7171ff%27%2C%20%27%23ff7171ff%27%2C%20%27%23ff7171ff%27%2C%20%27%23ff7171ff%27%2C%20%27%23ff7171ff%27%2C%20%27%23ff7171ff%27%2C%20%27%23ff7171ff%27%2C%20%27%23ff7171ff%27%2C%20%27%23ff7171ff%27%2C%20%27%23ff7171ff%27%2C%20%27%23ff7171ff%27%2C%20%27%23ff7171ff%27%2C%20%27%23ff7171ff%27%2C%20%27%23ff7171ff%27%2C%20%27%23ff7171ff%27%2C%20%27%23ff7171ff%27%2C%20%27%23ff7171ff%27%2C%20%27%23ff7171ff%27%2C%20%27%23ff7171ff%27%2C%20%27%23ff7171ff%27%2C%20%27%23ff7171ff%27%2C%20%27%23ff7171ff%27%2C%20%27%23ff7171ff%27%2C%20%27%23ff7171ff%27%2C%20%27%23ff7171ff%27%2C%20%27%23ff7171ff%27%2C%20%27%23ff7171ff%27%2C%20%27%23ff7171ff%27%2C%20%27%23ff7171ff%27%2C%20%27%23ff7171ff%27%2C%20%27%23ff3838ff%27%2C%20%27%23ff3838ff%27%2C%20%27%23ff3838ff%27%2C%20%27%23ff3838ff%27%2C%20%27%23ff3838ff%27%2C%20%27%23ff3838ff%27%2C%20%27%23ff3838ff%27%2C%20%27%23ff3838ff%27%2C%20%27%23ff3838ff%27%2C%20%27%23ff3838ff%27%2C%20%27%23ff3838ff%27%2C%20%27%23ff3838ff%27%2C%20%27%23ff3838ff%27%2C%20%27%23ff3838ff%27%2C%20%27%23ff3838ff%27%2C%20%27%23ff3838ff%27%2C%20%27%23ff3838ff%27%2C%20%27%23ff3838ff%27%2C%20%27%23ff3838ff%27%2C%20%27%23ff3838ff%27%2C%20%27%23ff3838ff%27%2C%20%27%23ff3838ff%27%2C%20%27%23ff3838ff%27%2C%20%27%23ff3838ff%27%2C%20%27%23ff3838ff%27%2C%20%27%23ff3838ff%27%2C%20%27%23ff3838ff%27%2C%20%27%23ff3838ff%27%2C%20%27%23ff3838ff%27%2C%20%27%23ff3838ff%27%2C%20%27%23ff3838ff%27%2C%20%27%23ff3838ff%27%2C%20%27%23ff3838ff%27%2C%20%27%23ff3838ff%27%2C%20%27%23ff3838ff%27%2C%20%27%23ff3838ff%27%2C%20%27%23ff3838ff%27%2C%20%27%23ff3838ff%27%2C%20%27%23ff3838ff%27%2C%20%27%23ff3838ff%27%2C%20%27%23ff3838ff%27%2C%20%27%23ff3838ff%27%2C%20%27%23ff3838ff%27%2C%20%27%23ff3838ff%27%2C%20%27%23ff3838ff%27%2C%20%27%23ff3838ff%27%2C%20%27%23ff3838ff%27%2C%20%27%23ff3838ff%27%2C%20%27%23ff3838ff%27%2C%20%27%23ff3838ff%27%2C%20%27%23ff0000ff%27%2C%20%27%23ff0000ff%27%2C%20%27%23ff0000ff%27%2C%20%27%23ff0000ff%27%2C%20%27%23ff0000ff%27%2C%20%27%23ff0000ff%27%2C%20%27%23ff0000ff%27%2C%20%27%23ff0000ff%27%2C%20%27%23ff0000ff%27%2C%20%27%23ff0000ff%27%2C%20%27%23ff0000ff%27%2C%20%27%23ff0000ff%27%2C%20%27%23ff0000ff%27%2C%20%27%23ff0000ff%27%2C%20%27%23ff0000ff%27%2C%20%27%23ff0000ff%27%2C%20%27%23ff0000ff%27%2C%20%27%23ff0000ff%27%2C%20%27%23ff0000ff%27%2C%20%27%23ff0000ff%27%2C%20%27%23ff0000ff%27%2C%20%27%23ff0000ff%27%2C%20%27%23ff0000ff%27%2C%20%27%23ff0000ff%27%2C%20%27%23ff0000ff%27%2C%20%27%23ff0000ff%27%2C%20%27%23ff0000ff%27%2C%20%27%23ff0000ff%27%2C%20%27%23ff0000ff%27%2C%20%27%23ff0000ff%27%2C%20%27%23ff0000ff%27%2C%20%27%23ff0000ff%27%2C%20%27%23ff0000ff%27%2C%20%27%23ff0000ff%27%2C%20%27%23ff0000ff%27%2C%20%27%23ff0000ff%27%2C%20%27%23ff0000ff%27%2C%20%27%23ff0000ff%27%2C%20%27%23ff0000ff%27%2C%20%27%23ff0000ff%27%2C%20%27%23ff0000ff%27%2C%20%27%23ff0000ff%27%2C%20%27%23ff0000ff%27%2C%20%27%23ff0000ff%27%2C%20%27%23ff0000ff%27%2C%20%27%23ff0000ff%27%2C%20%27%23ff0000ff%27%2C%20%27%23ff0000ff%27%2C%20%27%23ff0000ff%27%2C%20%27%23ff0000ff%27%5D%29%3B%0A%20%20%20%20%0A%0A%20%20%20%20color_map_a368ba494a704203b38f016ba26c5f55.x%20%3D%20d3.scale.linear%28%29%0A%20%20%20%20%20%20%20%20%20%20%20%20%20%20.domain%28%5B8.292080760002136%2C%2080.73881149291992%5D%29%0A%20%20%20%20%20%20%20%20%20%20%20%20%20%20.range%28%5B0%2C%20400%5D%29%3B%0A%0A%20%20%20%20color_map_a368ba494a704203b38f016ba26c5f55.legend%20%3D%20L.control%28%7Bposition%3A%20%27topright%27%7D%29%3B%0A%20%20%20%20color_map_a368ba494a704203b38f016ba26c5f55.legend.onAdd%20%3D%20function%20%28map%29%20%7Bvar%20div%20%3D%20L.DomUtil.create%28%27div%27%2C%20%27legend%27%29%3B%20return%20div%7D%3B%0A%20%20%20%20color_map_a368ba494a704203b38f016ba26c5f55.legend.addTo%28map_a6b10c8f3e814009b91eb6dfbb1cc8c0%29%3B%0A%0A%20%20%20%20color_map_a368ba494a704203b38f016ba26c5f55.xAxis%20%3D%20d3.svg.axis%28%29%0A%20%20%20%20%20%20%20%20.scale%28color_map_a368ba494a704203b38f016ba26c5f55.x%29%0A%20%20%20%20%20%20%20%20.orient%28%22top%22%29%0A%20%20%20%20%20%20%20%20.tickSize%281%29%0A%20%20%20%20%20%20%20%20.tickValues%28%5B8.292080760002136%2C%20%27%27%2C%2022.781426906585693%2C%20%27%27%2C%2037.27077305316925%2C%20%27%27%2C%2051.76011919975281%2C%20%27%27%2C%2066.24946534633636%2C%20%27%27%2C%2080.73881149291992%2C%20%27%27%5D%29%3B%0A%0A%20%20%20%20color_map_a368ba494a704203b38f016ba26c5f55.svg%20%3D%20d3.select%28%22.legend.leaflet-control%22%29.append%28%22svg%22%29%0A%20%20%20%20%20%20%20%20.attr%28%22id%22%2C%20%27legend%27%29%0A%20%20%20%20%20%20%20%20.attr%28%22width%22%2C%20450%29%0A%20%20%20%20%20%20%20%20.attr%28%22height%22%2C%2040%29%3B%0A%0A%20%20%20%20color_map_a368ba494a704203b38f016ba26c5f55.g%20%3D%20color_map_a368ba494a704203b38f016ba26c5f55.svg.append%28%22g%22%29%0A%20%20%20%20%20%20%20%20.attr%28%22class%22%2C%20%22key%22%29%0A%20%20%20%20%20%20%20%20.attr%28%22transform%22%2C%20%22translate%2825%2C16%29%22%29%3B%0A%0A%20%20%20%20color_map_a368ba494a704203b38f016ba26c5f55.g.selectAll%28%22rect%22%29%0A%20%20%20%20%20%20%20%20.data%28color_map_a368ba494a704203b38f016ba26c5f55.color.range%28%29.map%28function%28d%2C%20i%29%20%7B%0A%20%20%20%20%20%20%20%20%20%20return%20%7B%0A%20%20%20%20%20%20%20%20%20%20%20%20x0%3A%20i%20%3F%20color_map_a368ba494a704203b38f016ba26c5f55.x%28color_map_a368ba494a704203b38f016ba26c5f55.color.domain%28%29%5Bi%20-%201%5D%29%20%3A%20color_map_a368ba494a704203b38f016ba26c5f55.x.range%28%29%5B0%5D%2C%0A%20%20%20%20%20%20%20%20%20%20%20%20x1%3A%20i%20%3C%20color_map_a368ba494a704203b38f016ba26c5f55.color.domain%28%29.length%20%3F%20color_map_a368ba494a704203b38f016ba26c5f55.x%28color_map_a368ba494a704203b38f016ba26c5f55.color.domain%28%29%5Bi%5D%29%20%3A%20color_map_a368ba494a704203b38f016ba26c5f55.x.range%28%29%5B1%5D%2C%0A%20%20%20%20%20%20%20%20%20%20%20%20z%3A%20d%0A%20%20%20%20%20%20%20%20%20%20%7D%3B%0A%20%20%20%20%20%20%20%20%7D%29%29%0A%20%20%20%20%20%20.enter%28%29.append%28%22rect%22%29%0A%20%20%20%20%20%20%20%20.attr%28%22height%22%2C%2010%29%0A%20%20%20%20%20%20%20%20.attr%28%22x%22%2C%20function%28d%29%20%7B%20return%20d.x0%3B%20%7D%29%0A%20%20%20%20%20%20%20%20.attr%28%22width%22%2C%20function%28d%29%20%7B%20return%20d.x1%20-%20d.x0%3B%20%7D%29%0A%20%20%20%20%20%20%20%20.style%28%22fill%22%2C%20function%28d%29%20%7B%20return%20d.z%3B%20%7D%29%3B%0A%0A%20%20%20%20color_map_a368ba494a704203b38f016ba26c5f55.g.call%28color_map_a368ba494a704203b38f016ba26c5f55.xAxis%29.append%28%22text%22%29%0A%20%20%20%20%20%20%20%20.attr%28%22class%22%2C%20%22caption%22%29%0A%20%20%20%20%20%20%20%20.attr%28%22y%22%2C%2021%29%0A%20%20%20%20%20%20%20%20.text%28%27PRISM%20precip%27%29%3B%0A%20%20%20%20var%20tile_layer_fc4aa98a324542d696a88b7da56cba9f%20%3D%20L.tileLayer%28%0A%20%20%20%20%20%20%20%20%27https%3A//earthengine.googleapis.com/v1alpha/projects/earthengine-legacy/maps/38d07b872f7c3fb4ece0b6324a686133-8fa2955f8c549b443e891c34e9b6440b/tiles/%7Bz%7D/%7Bx%7D/%7By%7D%27%2C%0A%20%20%20%20%20%20%20%20%7B%0A%20%20%20%20%20%20%20%20%22attribution%22%3A%20%22Google%20Earth%20Engine%22%2C%0A%20%20%20%20%20%20%20%20%22detectRetina%22%3A%20false%2C%0A%20%20%20%20%20%20%20%20%22maxNativeZoom%22%3A%2018%2C%0A%20%20%20%20%20%20%20%20%22maxZoom%22%3A%2018%2C%0A%20%20%20%20%20%20%20%20%22minZoom%22%3A%200%2C%0A%20%20%20%20%20%20%20%20%22noWrap%22%3A%20false%2C%0A%20%20%20%20%20%20%20%20%22opacity%22%3A%201%2C%0A%20%20%20%20%20%20%20%20%22subdomains%22%3A%20%22abc%22%2C%0A%20%20%20%20%20%20%20%20%22tms%22%3A%20false%0A%7D%29.addTo%28map_a6b10c8f3e814009b91eb6dfbb1cc8c0%29%3B%0A%20%20%20%20%0A%20%20%20%20var%20color_map_f32dfe38fd8a4ff6a6a26155547a31eb%20%3D%20%7B%7D%3B%0A%0A%20%20%20%20%0A%20%20%20%20color_map_f32dfe38fd8a4ff6a6a26155547a31eb.color%20%3D%20d3.scale.threshold%28%29%0A%20%20%20%20%20%20%20%20%20%20%20%20%20%20.domain%28%5B12.165089318663089%2C%2012.195425457550204%2C%2012.225761596437321%2C%2012.256097735324436%2C%2012.286433874211552%2C%2012.316770013098667%2C%2012.347106151985784%2C%2012.3774422908729%2C%2012.407778429760015%2C%2012.438114568647132%2C%2012.468450707534247%2C%2012.498786846421362%2C%2012.529122985308478%2C%2012.559459124195595%2C%2012.58979526308271%2C%2012.620131401969825%2C%2012.650467540856942%2C%2012.680803679744058%2C%2012.711139818631173%2C%2012.741475957518288%2C%2012.771812096405405%2C%2012.80214823529252%2C%2012.832484374179636%2C%2012.862820513066753%2C%2012.893156651953868%2C%2012.923492790840983%2C%2012.953828929728099%2C%2012.984165068615216%2C%2013.014501207502331%2C%2013.044837346389446%2C%2013.075173485276563%2C%2013.105509624163679%2C%2013.135845763050794%2C%2013.16618190193791%2C%2013.196518040825026%2C%2013.226854179712142%2C%2013.257190318599257%2C%2013.287526457486372%2C%2013.31786259637349%2C%2013.348198735260604%2C%2013.37853487414772%2C%2013.408871013034837%2C%2013.439207151921952%2C%2013.469543290809067%2C%2013.499879429696183%2C%2013.5302155685833%2C%2013.560551707470415%2C%2013.59088784635753%2C%2013.621223985244647%2C%2013.651560124131763%2C%2013.681896263018878%2C%2013.712232401905993%2C%2013.74256854079311%2C%2013.772904679680225%2C%2013.80324081856734%2C%2013.833576957454458%2C%2013.863913096341573%2C%2013.894249235228688%2C%2013.924585374115804%2C%2013.95492151300292%2C%2013.985257651890036%2C%2014.015593790777151%2C%2014.045929929664268%2C%2014.076266068551384%2C%2014.106602207438499%2C%2014.136938346325614%2C%2014.167274485212731%2C%2014.197610624099847%2C%2014.227946762986964%2C%2014.258282901874079%2C%2014.288619040761194%2C%2014.31895517964831%2C%2014.349291318535425%2C%2014.379627457422542%2C%2014.409963596309657%2C%2014.440299735196774%2C%2014.47063587408389%2C%2014.500972012971005%2C%2014.53130815185812%2C%2014.561644290745235%2C%2014.591980429632352%2C%2014.622316568519468%2C%2014.652652707406585%2C%2014.6829888462937%2C%2014.713324985180815%2C%2014.74366112406793%2C%2014.773997262955046%2C%2014.804333401842163%2C%2014.834669540729278%2C%2014.865005679616395%2C%2014.89534181850351%2C%2014.925677957390626%2C%2014.956014096277741%2C%2014.986350235164856%2C%2015.016686374051973%2C%2015.047022512939089%2C%2015.077358651826206%2C%2015.107694790713321%2C%2015.138030929600436%2C%2015.168367068487552%2C%2015.198703207374667%2C%2015.229039346261784%2C%2015.2593754851489%2C%2015.289711624036014%2C%2015.320047762923132%2C%2015.350383901810247%2C%2015.380720040697362%2C%2015.411056179584477%2C%2015.441392318471594%2C%2015.47172845735871%2C%2015.502064596245825%2C%2015.532400735132942%2C%2015.562736874020057%2C%2015.593073012907173%2C%2015.623409151794288%2C%2015.653745290681405%2C%2015.68408142956852%2C%2015.714417568455636%2C%2015.744753707342753%2C%2015.775089846229868%2C%2015.805425985116983%2C%2015.835762124004098%2C%2015.866098262891215%2C%2015.89643440177833%2C%2015.926770540665446%2C%2015.957106679552563%2C%2015.987442818439678%2C%2016.017778957326794%2C%2016.04811509621391%2C%2016.078451235101024%2C%2016.108787373988143%2C%2016.13912351287526%2C%2016.169459651762374%2C%2016.19979579064949%2C%2016.230131929536604%2C%2016.26046806842372%2C%2016.290804207310835%2C%2016.32114034619795%2C%2016.35147648508507%2C%2016.381812623972184%2C%2016.4121487628593%2C%2016.442484901746415%2C%2016.47282104063353%2C%2016.503157179520645%2C%2016.533493318407764%2C%2016.56382945729488%2C%2016.594165596181995%2C%2016.62450173506911%2C%2016.654837873956225%2C%2016.68517401284334%2C%2016.715510151730456%2C%2016.74584629061757%2C%2016.77618242950469%2C%2016.806518568391805%2C%2016.83685470727892%2C%2016.867190846166036%2C%2016.89752698505315%2C%2016.927863123940266%2C%2016.958199262827385%2C%2016.9885354017145%2C%2017.018871540601616%2C%2017.04920767948873%2C%2017.079543818375846%2C%2017.10987995726296%2C%2017.140216096150077%2C%2017.170552235037192%2C%2017.20088837392431%2C%2017.231224512811426%2C%2017.26156065169854%2C%2017.291896790585657%2C%2017.322232929472772%2C%2017.352569068359887%2C%2017.382905207247006%2C%2017.41324134613412%2C%2017.443577485021237%2C%2017.473913623908352%2C%2017.504249762795467%2C%2017.534585901682583%2C%2017.564922040569698%2C%2017.595258179456813%2C%2017.625594318343932%2C%2017.655930457231047%2C%2017.686266596118163%2C%2017.716602735005278%2C%2017.746938873892393%2C%2017.77727501277951%2C%2017.807611151666627%2C%2017.837947290553743%2C%2017.868283429440858%2C%2017.898619568327973%2C%2017.92895570721509%2C%2017.959291846102204%2C%2017.98962798498932%2C%2018.019964123876434%2C%2018.050300262763553%2C%2018.08063640165067%2C%2018.110972540537784%2C%2018.1413086794249%2C%2018.171644818312014%2C%2018.20198095719913%2C%2018.23231709608625%2C%2018.262653234973364%2C%2018.29298937386048%2C%2018.323325512747594%2C%2018.35366165163471%2C%2018.383997790521825%2C%2018.41433392940894%2C%2018.444670068296055%2C%2018.475006207183174%2C%2018.50534234607029%2C%2018.535678484957405%2C%2018.56601462384452%2C%2018.596350762731635%2C%2018.62668690161875%2C%2018.65702304050587%2C%2018.687359179392985%2C%2018.7176953182801%2C%2018.748031457167215%2C%2018.77836759605433%2C%2018.808703734941446%2C%2018.83903987382856%2C%2018.869376012715676%2C%2018.899712151602795%2C%2018.93004829048991%2C%2018.960384429377026%2C%2018.99072056826414%2C%2019.021056707151256%2C%2019.05139284603837%2C%2019.08172898492549%2C%2019.112065123812606%2C%2019.14240126269972%2C%2019.172737401586836%2C%2019.20307354047395%2C%2019.233409679361067%2C%2019.263745818248182%2C%2019.294081957135298%2C%2019.324418096022416%2C%2019.35475423490953%2C%2019.385090373796647%2C%2019.415426512683762%2C%2019.445762651570877%2C%2019.476098790457993%2C%2019.50643492934511%2C%2019.536771068232227%2C%2019.567107207119342%2C%2019.597443346006457%2C%2019.627779484893573%2C%2019.658115623780688%2C%2019.688451762667803%2C%2019.71878790155492%2C%2019.749124040442037%2C%2019.779460179329153%2C%2019.809796318216268%2C%2019.840132457103383%2C%2019.8704685959905%2C%2019.900804734877614%2C%2019.931140873764733%2C%2019.961477012651848%2C%2019.991813151538963%2C%2020.02214929042608%2C%2020.052485429313194%2C%2020.08282156820031%2C%2020.113157707087424%2C%2020.14349384597454%2C%2020.173829984861655%2C%2020.204166123748774%2C%2020.23450226263589%2C%2020.264838401523004%2C%2020.29517454041012%2C%2020.32551067929724%2C%2020.355846818184354%2C%2020.38618295707147%2C%2020.416519095958584%2C%2020.4468552348457%2C%2020.477191373732815%2C%2020.50752751261993%2C%2020.537863651507045%2C%2020.56819979039416%2C%2020.598535929281276%2C%2020.62887206816839%2C%2020.65920820705551%2C%2020.689544345942625%2C%2020.71988048482974%2C%2020.750216623716856%2C%2020.780552762603975%2C%2020.81088890149109%2C%2020.841225040378205%2C%2020.87156117926532%2C%2020.901897318152436%2C%2020.93223345703955%2C%2020.962569595926666%2C%2020.99290573481378%2C%2021.023241873700897%2C%2021.053578012588016%2C%2021.083914151475128%2C%2021.114250290362246%2C%2021.14458642924936%2C%2021.17492256813648%2C%2021.205258707023592%2C%2021.23559484591071%2C%2021.265930984797826%2C%2021.29626712368494%2C%2021.326603262572057%2C%2021.356939401459172%2C%2021.387275540346288%2C%2021.417611679233403%2C%2021.447947818120518%2C%2021.478283957007633%2C%2021.508620095894752%2C%2021.538956234781867%2C%2021.569292373668983%2C%2021.599628512556098%2C%2021.629964651443217%2C%2021.660300790330332%2C%2021.690636929217447%2C%2021.720973068104563%2C%2021.751309206991678%2C%2021.781645345878793%2C%2021.81198148476591%2C%2021.842317623653024%2C%2021.87265376254014%2C%2021.902989901427258%2C%2021.93332604031437%2C%2021.96366217920149%2C%2021.993998318088604%2C%2022.024334456975723%2C%2022.054670595862834%2C%2022.085006734749953%2C%2022.11534287363707%2C%2022.145679012524184%2C%2022.1760151514113%2C%2022.206351290298414%2C%2022.23668742918553%2C%2022.267023568072645%2C%2022.29735970695976%2C%2022.327695845846875%2C%2022.358031984733994%2C%2022.38836812362111%2C%2022.418704262508225%2C%2022.44904040139534%2C%2022.47937654028246%2C%2022.509712679169574%2C%2022.54004881805669%2C%2022.570384956943805%2C%2022.60072109583092%2C%2022.631057234718035%2C%2022.66139337360515%2C%2022.691729512492266%2C%2022.72206565137938%2C%2022.7524017902665%2C%2022.782737929153612%2C%2022.81307406804073%2C%2022.843410206927846%2C%2022.873746345814965%2C%2022.904082484702077%2C%2022.934418623589195%2C%2022.96475476247631%2C%2022.995090901363426%2C%2023.02542704025054%2C%2023.055763179137656%2C%2023.08609931802477%2C%2023.116435456911887%2C%2023.146771595799002%2C%2023.177107734686118%2C%2023.207443873573236%2C%2023.23778001246035%2C%2023.268116151347467%2C%2023.298452290234582%2C%2023.3287884291217%2C%2023.359124568008816%2C%2023.38946070689593%2C%2023.419796845783047%2C%2023.450132984670162%2C%2023.480469123557278%2C%2023.510805262444393%2C%2023.541141401331508%2C%2023.571477540218623%2C%2023.601813679105742%2C%2023.632149817992854%2C%2023.662485956879973%2C%2023.692822095767088%2C%2023.723158234654207%2C%2023.75349437354132%2C%2023.783830512428437%2C%2023.814166651315553%2C%2023.844502790202668%2C%2023.874838929089783%2C%2023.9051750679769%2C%2023.935511206864014%2C%2023.96584734575113%2C%2023.996183484638244%2C%2024.02651962352536%2C%2024.05685576241248%2C%2024.087191901299594%2C%2024.11752804018671%2C%2024.147864179073824%2C%2024.178200317960943%2C%2024.20853645684806%2C%2024.238872595735174%2C%2024.26920873462229%2C%2024.299544873509404%2C%2024.32988101239652%2C%2024.360217151283635%2C%2024.39055329017075%2C%2024.420889429057866%2C%2024.451225567944984%2C%2024.481561706832096%2C%2024.511897845719215%2C%2024.54223398460633%2C%2024.57257012349345%2C%2024.60290626238056%2C%2024.63324240126768%2C%2024.663578540154795%2C%2024.69391467904191%2C%2024.724250817929025%2C%2024.75458695681614%2C%2024.784923095703256%2C%2024.81525923459037%2C%2024.845595373477487%2C%2024.875931512364602%2C%2024.90626765125172%2C%2024.936603790138832%2C%2024.96693992902595%2C%2024.997276067913067%2C%2025.027612206800185%2C%2025.057948345687297%2C%2025.088284484574416%2C%2025.11862062346153%2C%2025.148956762348647%2C%2025.179292901235762%2C%2025.209629040122877%2C%2025.239965179009992%2C%2025.270301317897108%2C%2025.300637456784226%2C%2025.330973595671338%2C%2025.361309734558457%2C%2025.391645873445572%2C%2025.421982012332688%2C%2025.452318151219803%2C%2025.48265429010692%2C%2025.512990428994037%2C%2025.543326567881152%2C%2025.573662706768268%2C%2025.603998845655383%2C%2025.634334984542498%2C%2025.664671123429613%2C%2025.69500726231673%2C%2025.725343401203844%2C%2025.755679540090963%2C%2025.786015678978075%2C%2025.816351817865193%2C%2025.84668795675231%2C%2025.877024095639428%2C%2025.90736023452654%2C%2025.937696373413658%2C%2025.968032512300773%2C%2025.99836865118789%2C%2026.028704790075004%2C%2026.05904092896212%2C%2026.089377067849234%2C%2026.11971320673635%2C%2026.150049345623465%2C%2026.18038548451058%2C%2026.2107216233977%2C%2026.241057762284814%2C%2026.27139390117193%2C%2026.301730040059045%2C%2026.332066178946164%2C%2026.36240231783328%2C%2026.392738456720394%2C%2026.42307459560751%2C%2026.453410734494625%2C%2026.48374687338174%2C%2026.514083012268856%2C%2026.54441915115597%2C%2026.574755290043086%2C%2026.605091428930205%2C%2026.635427567817317%2C%2026.665763706704436%2C%2026.69609984559155%2C%2026.72643598447867%2C%2026.75677212336578%2C%2026.7871082622529%2C%2026.817444401140015%2C%2026.84778054002713%2C%2026.878116678914246%2C%2026.90845281780136%2C%2026.938788956688477%2C%2026.969125095575592%2C%2026.999461234462707%2C%2027.029797373349822%2C%2027.06013351223694%2C%2027.090469651124057%2C%2027.120805790011172%2C%2027.151141928898287%2C%2027.181478067785406%2C%2027.21181420667252%2C%2027.242150345559637%2C%2027.272486484446752%2C%2027.302822623333867%5D%29%0A%20%20%20%20%20%20%20%20%20%20%20%20%20%20.range%28%5B%27%230000ffff%27%2C%20%27%230000ffff%27%2C%20%27%230000ffff%27%2C%20%27%230000ffff%27%2C%20%27%230000ffff%27%2C%20%27%230000ffff%27%2C%20%27%230000ffff%27%2C%20%27%230000ffff%27%2C%20%27%230000ffff%27%2C%20%27%230000ffff%27%2C%20%27%230000ffff%27%2C%20%27%230000ffff%27%2C%20%27%230000ffff%27%2C%20%27%230000ffff%27%2C%20%27%230000ffff%27%2C%20%27%230000ffff%27%2C%20%27%230000ffff%27%2C%20%27%230000ffff%27%2C%20%27%230000ffff%27%2C%20%27%230000ffff%27%2C%20%27%230000ffff%27%2C%20%27%230000ffff%27%2C%20%27%230000ffff%27%2C%20%27%230000ffff%27%2C%20%27%230000ffff%27%2C%20%27%230000ffff%27%2C%20%27%230000ffff%27%2C%20%27%230000ffff%27%2C%20%27%230000ffff%27%2C%20%27%230000ffff%27%2C%20%27%230000ffff%27%2C%20%27%230000ffff%27%2C%20%27%230000ffff%27%2C%20%27%230000ffff%27%2C%20%27%230000ffff%27%2C%20%27%230000ffff%27%2C%20%27%230000ffff%27%2C%20%27%230000ffff%27%2C%20%27%230000ffff%27%2C%20%27%230000ffff%27%2C%20%27%230000ffff%27%2C%20%27%230000ffff%27%2C%20%27%230000ffff%27%2C%20%27%230000ffff%27%2C%20%27%230000ffff%27%2C%20%27%230000ffff%27%2C%20%27%230000ffff%27%2C%20%27%230000ffff%27%2C%20%27%230000ffff%27%2C%20%27%230000ffff%27%2C%20%27%233838ffff%27%2C%20%27%233838ffff%27%2C%20%27%233838ffff%27%2C%20%27%233838ffff%27%2C%20%27%233838ffff%27%2C%20%27%233838ffff%27%2C%20%27%233838ffff%27%2C%20%27%233838ffff%27%2C%20%27%233838ffff%27%2C%20%27%233838ffff%27%2C%20%27%233838ffff%27%2C%20%27%233838ffff%27%2C%20%27%233838ffff%27%2C%20%27%233838ffff%27%2C%20%27%233838ffff%27%2C%20%27%233838ffff%27%2C%20%27%233838ffff%27%2C%20%27%233838ffff%27%2C%20%27%233838ffff%27%2C%20%27%233838ffff%27%2C%20%27%233838ffff%27%2C%20%27%233838ffff%27%2C%20%27%233838ffff%27%2C%20%27%233838ffff%27%2C%20%27%233838ffff%27%2C%20%27%233838ffff%27%2C%20%27%233838ffff%27%2C%20%27%233838ffff%27%2C%20%27%233838ffff%27%2C%20%27%233838ffff%27%2C%20%27%233838ffff%27%2C%20%27%233838ffff%27%2C%20%27%233838ffff%27%2C%20%27%233838ffff%27%2C%20%27%233838ffff%27%2C%20%27%233838ffff%27%2C%20%27%233838ffff%27%2C%20%27%233838ffff%27%2C%20%27%233838ffff%27%2C%20%27%233838ffff%27%2C%20%27%233838ffff%27%2C%20%27%233838ffff%27%2C%20%27%233838ffff%27%2C%20%27%233838ffff%27%2C%20%27%233838ffff%27%2C%20%27%233838ffff%27%2C%20%27%233838ffff%27%2C%20%27%233838ffff%27%2C%20%27%233838ffff%27%2C%20%27%233838ffff%27%2C%20%27%237171ffff%27%2C%20%27%237171ffff%27%2C%20%27%237171ffff%27%2C%20%27%237171ffff%27%2C%20%27%237171ffff%27%2C%20%27%237171ffff%27%2C%20%27%237171ffff%27%2C%20%27%237171ffff%27%2C%20%27%237171ffff%27%2C%20%27%237171ffff%27%2C%20%27%237171ffff%27%2C%20%27%237171ffff%27%2C%20%27%237171ffff%27%2C%20%27%237171ffff%27%2C%20%27%237171ffff%27%2C%20%27%237171ffff%27%2C%20%27%237171ffff%27%2C%20%27%237171ffff%27%2C%20%27%237171ffff%27%2C%20%27%237171ffff%27%2C%20%27%237171ffff%27%2C%20%27%237171ffff%27%2C%20%27%237171ffff%27%2C%20%27%237171ffff%27%2C%20%27%237171ffff%27%2C%20%27%237171ffff%27%2C%20%27%237171ffff%27%2C%20%27%237171ffff%27%2C%20%27%237171ffff%27%2C%20%27%237171ffff%27%2C%20%27%237171ffff%27%2C%20%27%237171ffff%27%2C%20%27%237171ffff%27%2C%20%27%237171ffff%27%2C%20%27%237171ffff%27%2C%20%27%237171ffff%27%2C%20%27%237171ffff%27%2C%20%27%237171ffff%27%2C%20%27%237171ffff%27%2C%20%27%237171ffff%27%2C%20%27%237171ffff%27%2C%20%27%237171ffff%27%2C%20%27%237171ffff%27%2C%20%27%237171ffff%27%2C%20%27%237171ffff%27%2C%20%27%237171ffff%27%2C%20%27%237171ffff%27%2C%20%27%237171ffff%27%2C%20%27%237171ffff%27%2C%20%27%237171ffff%27%2C%20%27%23aaaaffff%27%2C%20%27%23aaaaffff%27%2C%20%27%23aaaaffff%27%2C%20%27%23aaaaffff%27%2C%20%27%23aaaaffff%27%2C%20%27%23aaaaffff%27%2C%20%27%23aaaaffff%27%2C%20%27%23aaaaffff%27%2C%20%27%23aaaaffff%27%2C%20%27%23aaaaffff%27%2C%20%27%23aaaaffff%27%2C%20%27%23aaaaffff%27%2C%20%27%23aaaaffff%27%2C%20%27%23aaaaffff%27%2C%20%27%23aaaaffff%27%2C%20%27%23aaaaffff%27%2C%20%27%23aaaaffff%27%2C%20%27%23aaaaffff%27%2C%20%27%23aaaaffff%27%2C%20%27%23aaaaffff%27%2C%20%27%23aaaaffff%27%2C%20%27%23aaaaffff%27%2C%20%27%23aaaaffff%27%2C%20%27%23aaaaffff%27%2C%20%27%23aaaaffff%27%2C%20%27%23aaaaffff%27%2C%20%27%23aaaaffff%27%2C%20%27%23aaaaffff%27%2C%20%27%23aaaaffff%27%2C%20%27%23aaaaffff%27%2C%20%27%23aaaaffff%27%2C%20%27%23aaaaffff%27%2C%20%27%23aaaaffff%27%2C%20%27%23aaaaffff%27%2C%20%27%23aaaaffff%27%2C%20%27%23aaaaffff%27%2C%20%27%23aaaaffff%27%2C%20%27%23aaaaffff%27%2C%20%27%23aaaaffff%27%2C%20%27%23aaaaffff%27%2C%20%27%23aaaaffff%27%2C%20%27%23aaaaffff%27%2C%20%27%23aaaaffff%27%2C%20%27%23aaaaffff%27%2C%20%27%23aaaaffff%27%2C%20%27%23aaaaffff%27%2C%20%27%23aaaaffff%27%2C%20%27%23aaaaffff%27%2C%20%27%23aaaaffff%27%2C%20%27%23aaaaffff%27%2C%20%27%23e3e3ffff%27%2C%20%27%23e3e3ffff%27%2C%20%27%23e3e3ffff%27%2C%20%27%23e3e3ffff%27%2C%20%27%23e3e3ffff%27%2C%20%27%23e3e3ffff%27%2C%20%27%23e3e3ffff%27%2C%20%27%23e3e3ffff%27%2C%20%27%23e3e3ffff%27%2C%20%27%23e3e3ffff%27%2C%20%27%23e3e3ffff%27%2C%20%27%23e3e3ffff%27%2C%20%27%23e3e3ffff%27%2C%20%27%23e3e3ffff%27%2C%20%27%23e3e3ffff%27%2C%20%27%23e3e3ffff%27%2C%20%27%23e3e3ffff%27%2C%20%27%23e3e3ffff%27%2C%20%27%23e3e3ffff%27%2C%20%27%23e3e3ffff%27%2C%20%27%23e3e3ffff%27%2C%20%27%23e3e3ffff%27%2C%20%27%23e3e3ffff%27%2C%20%27%23e3e3ffff%27%2C%20%27%23e3e3ffff%27%2C%20%27%23e3e3ffff%27%2C%20%27%23e3e3ffff%27%2C%20%27%23e3e3ffff%27%2C%20%27%23e3e3ffff%27%2C%20%27%23e3e3ffff%27%2C%20%27%23e3e3ffff%27%2C%20%27%23e3e3ffff%27%2C%20%27%23e3e3ffff%27%2C%20%27%23e3e3ffff%27%2C%20%27%23e3e3ffff%27%2C%20%27%23e3e3ffff%27%2C%20%27%23e3e3ffff%27%2C%20%27%23e3e3ffff%27%2C%20%27%23e3e3ffff%27%2C%20%27%23e3e3ffff%27%2C%20%27%23e3e3ffff%27%2C%20%27%23e3e3ffff%27%2C%20%27%23e3e3ffff%27%2C%20%27%23e3e3ffff%27%2C%20%27%23e3e3ffff%27%2C%20%27%23e3e3ffff%27%2C%20%27%23e3e3ffff%27%2C%20%27%23e3e3ffff%27%2C%20%27%23e3e3ffff%27%2C%20%27%23e3e3ffff%27%2C%20%27%23ffe3e3ff%27%2C%20%27%23ffe3e3ff%27%2C%20%27%23ffe3e3ff%27%2C%20%27%23ffe3e3ff%27%2C%20%27%23ffe3e3ff%27%2C%20%27%23ffe3e3ff%27%2C%20%27%23ffe3e3ff%27%2C%20%27%23ffe3e3ff%27%2C%20%27%23ffe3e3ff%27%2C%20%27%23ffe3e3ff%27%2C%20%27%23ffe3e3ff%27%2C%20%27%23ffe3e3ff%27%2C%20%27%23ffe3e3ff%27%2C%20%27%23ffe3e3ff%27%2C%20%27%23ffe3e3ff%27%2C%20%27%23ffe3e3ff%27%2C%20%27%23ffe3e3ff%27%2C%20%27%23ffe3e3ff%27%2C%20%27%23ffe3e3ff%27%2C%20%27%23ffe3e3ff%27%2C%20%27%23ffe3e3ff%27%2C%20%27%23ffe3e3ff%27%2C%20%27%23ffe3e3ff%27%2C%20%27%23ffe3e3ff%27%2C%20%27%23ffe3e3ff%27%2C%20%27%23ffe3e3ff%27%2C%20%27%23ffe3e3ff%27%2C%20%27%23ffe3e3ff%27%2C%20%27%23ffe3e3ff%27%2C%20%27%23ffe3e3ff%27%2C%20%27%23ffe3e3ff%27%2C%20%27%23ffe3e3ff%27%2C%20%27%23ffe3e3ff%27%2C%20%27%23ffe3e3ff%27%2C%20%27%23ffe3e3ff%27%2C%20%27%23ffe3e3ff%27%2C%20%27%23ffe3e3ff%27%2C%20%27%23ffe3e3ff%27%2C%20%27%23ffe3e3ff%27%2C%20%27%23ffe3e3ff%27%2C%20%27%23ffe3e3ff%27%2C%20%27%23ffe3e3ff%27%2C%20%27%23ffe3e3ff%27%2C%20%27%23ffe3e3ff%27%2C%20%27%23ffe3e3ff%27%2C%20%27%23ffe3e3ff%27%2C%20%27%23ffe3e3ff%27%2C%20%27%23ffe3e3ff%27%2C%20%27%23ffe3e3ff%27%2C%20%27%23ffe3e3ff%27%2C%20%27%23ffaaaaff%27%2C%20%27%23ffaaaaff%27%2C%20%27%23ffaaaaff%27%2C%20%27%23ffaaaaff%27%2C%20%27%23ffaaaaff%27%2C%20%27%23ffaaaaff%27%2C%20%27%23ffaaaaff%27%2C%20%27%23ffaaaaff%27%2C%20%27%23ffaaaaff%27%2C%20%27%23ffaaaaff%27%2C%20%27%23ffaaaaff%27%2C%20%27%23ffaaaaff%27%2C%20%27%23ffaaaaff%27%2C%20%27%23ffaaaaff%27%2C%20%27%23ffaaaaff%27%2C%20%27%23ffaaaaff%27%2C%20%27%23ffaaaaff%27%2C%20%27%23ffaaaaff%27%2C%20%27%23ffaaaaff%27%2C%20%27%23ffaaaaff%27%2C%20%27%23ffaaaaff%27%2C%20%27%23ffaaaaff%27%2C%20%27%23ffaaaaff%27%2C%20%27%23ffaaaaff%27%2C%20%27%23ffaaaaff%27%2C%20%27%23ffaaaaff%27%2C%20%27%23ffaaaaff%27%2C%20%27%23ffaaaaff%27%2C%20%27%23ffaaaaff%27%2C%20%27%23ffaaaaff%27%2C%20%27%23ffaaaaff%27%2C%20%27%23ffaaaaff%27%2C%20%27%23ffaaaaff%27%2C%20%27%23ffaaaaff%27%2C%20%27%23ffaaaaff%27%2C%20%27%23ffaaaaff%27%2C%20%27%23ffaaaaff%27%2C%20%27%23ffaaaaff%27%2C%20%27%23ffaaaaff%27%2C%20%27%23ffaaaaff%27%2C%20%27%23ffaaaaff%27%2C%20%27%23ffaaaaff%27%2C%20%27%23ffaaaaff%27%2C%20%27%23ffaaaaff%27%2C%20%27%23ffaaaaff%27%2C%20%27%23ffaaaaff%27%2C%20%27%23ffaaaaff%27%2C%20%27%23ffaaaaff%27%2C%20%27%23ffaaaaff%27%2C%20%27%23ffaaaaff%27%2C%20%27%23ff7171ff%27%2C%20%27%23ff7171ff%27%2C%20%27%23ff7171ff%27%2C%20%27%23ff7171ff%27%2C%20%27%23ff7171ff%27%2C%20%27%23ff7171ff%27%2C%20%27%23ff7171ff%27%2C%20%27%23ff7171ff%27%2C%20%27%23ff7171ff%27%2C%20%27%23ff7171ff%27%2C%20%27%23ff7171ff%27%2C%20%27%23ff7171ff%27%2C%20%27%23ff7171ff%27%2C%20%27%23ff7171ff%27%2C%20%27%23ff7171ff%27%2C%20%27%23ff7171ff%27%2C%20%27%23ff7171ff%27%2C%20%27%23ff7171ff%27%2C%20%27%23ff7171ff%27%2C%20%27%23ff7171ff%27%2C%20%27%23ff7171ff%27%2C%20%27%23ff7171ff%27%2C%20%27%23ff7171ff%27%2C%20%27%23ff7171ff%27%2C%20%27%23ff7171ff%27%2C%20%27%23ff7171ff%27%2C%20%27%23ff7171ff%27%2C%20%27%23ff7171ff%27%2C%20%27%23ff7171ff%27%2C%20%27%23ff7171ff%27%2C%20%27%23ff7171ff%27%2C%20%27%23ff7171ff%27%2C%20%27%23ff7171ff%27%2C%20%27%23ff7171ff%27%2C%20%27%23ff7171ff%27%2C%20%27%23ff7171ff%27%2C%20%27%23ff7171ff%27%2C%20%27%23ff7171ff%27%2C%20%27%23ff7171ff%27%2C%20%27%23ff7171ff%27%2C%20%27%23ff7171ff%27%2C%20%27%23ff7171ff%27%2C%20%27%23ff7171ff%27%2C%20%27%23ff7171ff%27%2C%20%27%23ff7171ff%27%2C%20%27%23ff7171ff%27%2C%20%27%23ff7171ff%27%2C%20%27%23ff7171ff%27%2C%20%27%23ff7171ff%27%2C%20%27%23ff7171ff%27%2C%20%27%23ff3838ff%27%2C%20%27%23ff3838ff%27%2C%20%27%23ff3838ff%27%2C%20%27%23ff3838ff%27%2C%20%27%23ff3838ff%27%2C%20%27%23ff3838ff%27%2C%20%27%23ff3838ff%27%2C%20%27%23ff3838ff%27%2C%20%27%23ff3838ff%27%2C%20%27%23ff3838ff%27%2C%20%27%23ff3838ff%27%2C%20%27%23ff3838ff%27%2C%20%27%23ff3838ff%27%2C%20%27%23ff3838ff%27%2C%20%27%23ff3838ff%27%2C%20%27%23ff3838ff%27%2C%20%27%23ff3838ff%27%2C%20%27%23ff3838ff%27%2C%20%27%23ff3838ff%27%2C%20%27%23ff3838ff%27%2C%20%27%23ff3838ff%27%2C%20%27%23ff3838ff%27%2C%20%27%23ff3838ff%27%2C%20%27%23ff3838ff%27%2C%20%27%23ff3838ff%27%2C%20%27%23ff3838ff%27%2C%20%27%23ff3838ff%27%2C%20%27%23ff3838ff%27%2C%20%27%23ff3838ff%27%2C%20%27%23ff3838ff%27%2C%20%27%23ff3838ff%27%2C%20%27%23ff3838ff%27%2C%20%27%23ff3838ff%27%2C%20%27%23ff3838ff%27%2C%20%27%23ff3838ff%27%2C%20%27%23ff3838ff%27%2C%20%27%23ff3838ff%27%2C%20%27%23ff3838ff%27%2C%20%27%23ff3838ff%27%2C%20%27%23ff3838ff%27%2C%20%27%23ff3838ff%27%2C%20%27%23ff3838ff%27%2C%20%27%23ff3838ff%27%2C%20%27%23ff3838ff%27%2C%20%27%23ff3838ff%27%2C%20%27%23ff3838ff%27%2C%20%27%23ff3838ff%27%2C%20%27%23ff3838ff%27%2C%20%27%23ff3838ff%27%2C%20%27%23ff3838ff%27%2C%20%27%23ff0000ff%27%2C%20%27%23ff0000ff%27%2C%20%27%23ff0000ff%27%2C%20%27%23ff0000ff%27%2C%20%27%23ff0000ff%27%2C%20%27%23ff0000ff%27%2C%20%27%23ff0000ff%27%2C%20%27%23ff0000ff%27%2C%20%27%23ff0000ff%27%2C%20%27%23ff0000ff%27%2C%20%27%23ff0000ff%27%2C%20%27%23ff0000ff%27%2C%20%27%23ff0000ff%27%2C%20%27%23ff0000ff%27%2C%20%27%23ff0000ff%27%2C%20%27%23ff0000ff%27%2C%20%27%23ff0000ff%27%2C%20%27%23ff0000ff%27%2C%20%27%23ff0000ff%27%2C%20%27%23ff0000ff%27%2C%20%27%23ff0000ff%27%2C%20%27%23ff0000ff%27%2C%20%27%23ff0000ff%27%2C%20%27%23ff0000ff%27%2C%20%27%23ff0000ff%27%2C%20%27%23ff0000ff%27%2C%20%27%23ff0000ff%27%2C%20%27%23ff0000ff%27%2C%20%27%23ff0000ff%27%2C%20%27%23ff0000ff%27%2C%20%27%23ff0000ff%27%2C%20%27%23ff0000ff%27%2C%20%27%23ff0000ff%27%2C%20%27%23ff0000ff%27%2C%20%27%23ff0000ff%27%2C%20%27%23ff0000ff%27%2C%20%27%23ff0000ff%27%2C%20%27%23ff0000ff%27%2C%20%27%23ff0000ff%27%2C%20%27%23ff0000ff%27%2C%20%27%23ff0000ff%27%2C%20%27%23ff0000ff%27%2C%20%27%23ff0000ff%27%2C%20%27%23ff0000ff%27%2C%20%27%23ff0000ff%27%2C%20%27%23ff0000ff%27%2C%20%27%23ff0000ff%27%2C%20%27%23ff0000ff%27%2C%20%27%23ff0000ff%27%2C%20%27%23ff0000ff%27%5D%29%3B%0A%20%20%20%20%0A%0A%20%20%20%20color_map_f32dfe38fd8a4ff6a6a26155547a31eb.x%20%3D%20d3.scale.linear%28%29%0A%20%20%20%20%20%20%20%20%20%20%20%20%20%20.domain%28%5B12.165089318663089%2C%2027.302822623333867%5D%29%0A%20%20%20%20%20%20%20%20%20%20%20%20%20%20.range%28%5B0%2C%20400%5D%29%3B%0A%0A%20%20%20%20color_map_f32dfe38fd8a4ff6a6a26155547a31eb.legend%20%3D%20L.control%28%7Bposition%3A%20%27topright%27%7D%29%3B%0A%20%20%20%20color_map_f32dfe38fd8a4ff6a6a26155547a31eb.legend.onAdd%20%3D%20function%20%28map%29%20%7Bvar%20div%20%3D%20L.DomUtil.create%28%27div%27%2C%20%27legend%27%29%3B%20return%20div%7D%3B%0A%20%20%20%20color_map_f32dfe38fd8a4ff6a6a26155547a31eb.legend.addTo%28map_a6b10c8f3e814009b91eb6dfbb1cc8c0%29%3B%0A%0A%20%20%20%20color_map_f32dfe38fd8a4ff6a6a26155547a31eb.xAxis%20%3D%20d3.svg.axis%28%29%0A%20%20%20%20%20%20%20%20.scale%28color_map_f32dfe38fd8a4ff6a6a26155547a31eb.x%29%0A%20%20%20%20%20%20%20%20.orient%28%22top%22%29%0A%20%20%20%20%20%20%20%20.tickSize%281%29%0A%20%20%20%20%20%20%20%20.tickValues%28%5B12.165089318663089%2C%20%27%27%2C%2015.192635979597245%2C%20%27%27%2C%2018.220182640531398%2C%20%27%27%2C%2021.247729301465554%2C%20%27%27%2C%2024.27527596239971%2C%20%27%27%2C%2027.302822623333867%2C%20%27%27%5D%29%3B%0A%0A%20%20%20%20color_map_f32dfe38fd8a4ff6a6a26155547a31eb.svg%20%3D%20d3.select%28%22.legend.leaflet-control%22%29.append%28%22svg%22%29%0A%20%20%20%20%20%20%20%20.attr%28%22id%22%2C%20%27legend%27%29%0A%20%20%20%20%20%20%20%20.attr%28%22width%22%2C%20450%29%0A%20%20%20%20%20%20%20%20.attr%28%22height%22%2C%2040%29%3B%0A%0A%20%20%20%20color_map_f32dfe38fd8a4ff6a6a26155547a31eb.g%20%3D%20color_map_f32dfe38fd8a4ff6a6a26155547a31eb.svg.append%28%22g%22%29%0A%20%20%20%20%20%20%20%20.attr%28%22class%22%2C%20%22key%22%29%0A%20%20%20%20%20%20%20%20.attr%28%22transform%22%2C%20%22translate%2825%2C16%29%22%29%3B%0A%0A%20%20%20%20color_map_f32dfe38fd8a4ff6a6a26155547a31eb.g.selectAll%28%22rect%22%29%0A%20%20%20%20%20%20%20%20.data%28color_map_f32dfe38fd8a4ff6a6a26155547a31eb.color.range%28%29.map%28function%28d%2C%20i%29%20%7B%0A%20%20%20%20%20%20%20%20%20%20return%20%7B%0A%20%20%20%20%20%20%20%20%20%20%20%20x0%3A%20i%20%3F%20color_map_f32dfe38fd8a4ff6a6a26155547a31eb.x%28color_map_f32dfe38fd8a4ff6a6a26155547a31eb.color.domain%28%29%5Bi%20-%201%5D%29%20%3A%20color_map_f32dfe38fd8a4ff6a6a26155547a31eb.x.range%28%29%5B0%5D%2C%0A%20%20%20%20%20%20%20%20%20%20%20%20x1%3A%20i%20%3C%20color_map_f32dfe38fd8a4ff6a6a26155547a31eb.color.domain%28%29.length%20%3F%20color_map_f32dfe38fd8a4ff6a6a26155547a31eb.x%28color_map_f32dfe38fd8a4ff6a6a26155547a31eb.color.domain%28%29%5Bi%5D%29%20%3A%20color_map_f32dfe38fd8a4ff6a6a26155547a31eb.x.range%28%29%5B1%5D%2C%0A%20%20%20%20%20%20%20%20%20%20%20%20z%3A%20d%0A%20%20%20%20%20%20%20%20%20%20%7D%3B%0A%20%20%20%20%20%20%20%20%7D%29%29%0A%20%20%20%20%20%20.enter%28%29.append%28%22rect%22%29%0A%20%20%20%20%20%20%20%20.attr%28%22height%22%2C%2010%29%0A%20%20%20%20%20%20%20%20.attr%28%22x%22%2C%20function%28d%29%20%7B%20return%20d.x0%3B%20%7D%29%0A%20%20%20%20%20%20%20%20.attr%28%22width%22%2C%20function%28d%29%20%7B%20return%20d.x1%20-%20d.x0%3B%20%7D%29%0A%20%20%20%20%20%20%20%20.style%28%22fill%22%2C%20function%28d%29%20%7B%20return%20d.z%3B%20%7D%29%3B%0A%0A%20%20%20%20color_map_f32dfe38fd8a4ff6a6a26155547a31eb.g.call%28color_map_f32dfe38fd8a4ff6a6a26155547a31eb.xAxis%29.append%28%22text%22%29%0A%20%20%20%20%20%20%20%20.attr%28%22class%22%2C%20%22caption%22%29%0A%20%20%20%20%20%20%20%20.attr%28%22y%22%2C%2021%29%0A%20%20%20%20%20%20%20%20.text%28%27GPM%20precip%27%29%3B%0A%20%20%20%20%0A%20%20%20%20%20%20%20%20var%20geo_json_3520e6132fb344fe83b4f43ce25bfeab%20%3D%20L.geoJson%28%0A%20%20%20%20%20%20%20%20%20%20%20%20%7B%22features%22%3A%20%5B%7B%22geometry%22%3A%20%7B%22coordinates%22%3A%20%5B%5B%5B-110%2C%2040%5D%2C%20%5B-105%2C%2040%5D%2C%20%5B-105%2C%2045%5D%2C%20%5B-110%2C%2045%5D%2C%20%5B-110%2C%2040%5D%5D%5D%2C%20%22type%22%3A%20%22Polygon%22%7D%2C%20%22properties%22%3A%20%7B%22highlight%22%3A%20%7B%7D%2C%20%22style%22%3A%20%7B%7D%7D%2C%20%22type%22%3A%20%22Feature%22%7D%5D%2C%20%22type%22%3A%20%22FeatureCollection%22%7D%2C%0A%20%20%20%20%20%20%20%20%20%20%20%20%7B%0A%20%20%20%20%20%20%20%20%20%20%20%20%7D%0A%20%20%20%20%20%20%20%20%29.addTo%28map_a6b10c8f3e814009b91eb6dfbb1cc8c0%20%29%3B%0A%20%20%20%20%20%20%20%20geo_json_3520e6132fb344fe83b4f43ce25bfeab.setStyle%28function%28feature%29%20%7Breturn%20feature.properties.style%3B%7D%29%3B%0A%20%20%20%20%20%20%20%20%0A%20%20%20%20%0A%20%20%20%20%20%20%20%20%20%20%20%20var%20layer_control_d26745d404a845acaa633a8d32b0cdd5%20%3D%20%7B%0A%20%20%20%20%20%20%20%20%20%20%20%20%20%20%20%20base_layers%20%3A%20%7B%20%22openstreetmap%22%20%3A%20tile_layer_111e3d2918f94f368842e8126ef06337%2C%20%7D%2C%0A%20%20%20%20%20%20%20%20%20%20%20%20%20%20%20%20overlays%20%3A%20%7B%20%22Elevation%22%20%3A%20tile_layer_b888b49c11844223836ea1cb13a7340f%2C%22PRISM%20precip%22%20%3A%20tile_layer_6185a016545c4b2ba545a4613b0a574b%2C%22GPM%20precip%22%20%3A%20tile_layer_fc4aa98a324542d696a88b7da56cba9f%2C%22bounding%20box%22%20%3A%20geo_json_3520e6132fb344fe83b4f43ce25bfeab%2C%20%7D%0A%20%20%20%20%20%20%20%20%20%20%20%20%20%20%20%20%7D%3B%0A%20%20%20%20%20%20%20%20%20%20%20%20L.control.layers%28%0A%20%20%20%20%20%20%20%20%20%20%20%20%20%20%20%20layer_control_d26745d404a845acaa633a8d32b0cdd5.base_layers%2C%0A%20%20%20%20%20%20%20%20%20%20%20%20%20%20%20%20layer_control_d26745d404a845acaa633a8d32b0cdd5.overlays%2C%0A%20%20%20%20%20%20%20%20%20%20%20%20%20%20%20%20%7Bposition%3A%20%27topright%27%2C%0A%20%20%20%20%20%20%20%20%20%20%20%20%20%20%20%20%20collapsed%3A%20true%2C%0A%20%20%20%20%20%20%20%20%20%20%20%20%20%20%20%20%20autoZIndex%3A%20true%0A%20%20%20%20%20%20%20%20%20%20%20%20%20%20%20%20%7D%29.addTo%28map_a6b10c8f3e814009b91eb6dfbb1cc8c0%29%3B%0A%20%20%20%20%20%20%20%20%20%20%20%20%0A%20%20%20%20%20%20%20%20%0A%3C/script%3E onload=\"this.contentDocument.open();this.contentDocument.write(    decodeURIComponent(this.getAttribute('data-html')));this.contentDocument.close();\" allowfullscreen webkitallowfullscreen mozallowfullscreen></iframe></div></div>"
            ],
            "text/plain": [
              "<folium.folium.Map at 0x7ff8fd1b3150>"
            ]
          },
          "metadata": {}
        }
      ]
    },
    {
      "cell_type": "markdown",
      "metadata": {
        "id": "VL6Sg2I2inyL"
      },
      "source": [
        "Now, we will export the tiffs to your Google Colab folder (this is a folder in your Google Drive storage). We will then use some other python functions to do analysis. After you run the code below, it will take a few minutes to save the files to your Google Drive. Move on to the next step while you're waiting."
      ]
    },
    {
      "cell_type": "code",
      "metadata": {
        "id": "0mq0A4KdhU7s"
      },
      "source": [
        "export_to_drive(gpm_img,'lab2_gpm_precip_CO','Colab Notebooks',geom) # raster, file name, folder name, geometry to clip it with\n",
        "export_to_drive(elev,'lab2_elev_CO','Colab Notebooks',geom)\n",
        "export_to_drive(prism_img,'lab2_prism_precip_CO','Colab Notebooks',geom)"
      ],
      "execution_count": 5,
      "outputs": []
    },
    {
      "cell_type": "markdown",
      "metadata": {
        "id": "tR37-cMAVARE"
      },
      "source": [
        "While you're waiting, try a different way of downloading the rasters below. Once you have downloaded them, load them into QGIS. Reproject the elevation dataset to a projected coordinate reference system (UTM Zone 15N, WGS84 is a good choice). You can do this by right-clicking on the elevation file, Export, then specify the coordinate reference system.\n",
        "\n",
        "Calculate the slope of the projected coordinate reference system (Raster -> Analysis -> Slope).\n",
        "\n",
        "Identify an area with high landslide risk (high slope/high precipitation), and make a shapefile  over that region.\n",
        "\n",
        "Take a screenshot and include with your report.\n",
        "\n",
        "The precipitation units are the average monthly precipitation in mm. What is the maximum/minimum total precipitation over the study period?"
      ]
    },
    {
      "cell_type": "code",
      "metadata": {
        "colab": {
          "base_uri": "https://localhost:8080/"
        },
        "id": "xfA9TEGCElAr",
        "outputId": "1f1caf03-ab4d-4942-a117-f348fc815e48"
      },
      "source": [
        "# create a bounding box that defines the study area\n",
        "geom = addGeometry(-110, -105,40,45) # min long, max long, min lat, max lat\n",
        "\n",
        "# define dates of interest (inclusive).\n",
        "start = '2020-04-01'\n",
        "end = '2021-04-01' #can go up to april 2021\n",
        "\n",
        "# now get gpm precipitation over the same region for a specified time period\n",
        "gpm_img_total = get_gpm_image(start,end, geom, 'sum')\n",
        "\n",
        "# now get prism precipitation over the same time period/region\n",
        "prism_img_total = get_prism_image(start,end, geom, 'sum')\n",
        "\n",
        "gpm_total_arr = to_array(gpm_img_total, geom)\n",
        "prism_total_arr = to_array(prism_img_total, geom)\n",
        "\n",
        "min_gpm, max_gpm = np.round(np.min(gpm_total_arr), 2), np.round(np.max(gpm_total_arr), 2)\n",
        "min_prism, max_prism = np.round(np.min(prism_total_arr), 2), np.round(np.max(prism_total_arr), 2)\n",
        "\n",
        "print('GPM stats (min, max) = ({}, {})'.format(min_gpm, max_gpm))\n",
        "print('PRISM stats (min, max) = ({}, {})'.format(min_prism, max_prism))"
      ],
      "execution_count": 10,
      "outputs": [
        {
          "output_type": "stream",
          "name": "stdout",
          "text": [
            "GPM stats (min, max) = (161.32, 305.84)\n",
            "PRISM stats (min, max) = (128.91, 558.16)\n"
          ]
        }
      ]
    },
    {
      "cell_type": "code",
      "metadata": {
        "id": "Lz83KHaegOPk",
        "colab": {
          "base_uri": "https://localhost:8080/"
        },
        "outputId": "c38f72bb-da83-433e-e91f-b59068043e8a"
      },
      "source": [
        "print('GPM precipitation raster download:')\n",
        "getLink(gpm_img,geom)\n",
        "print('Elevation raster download:')\n",
        "getLink(elev,geom)\n",
        "print('PRISM precipitation raster download:')\n",
        "getLink(prism_img,geom)"
      ],
      "execution_count": 6,
      "outputs": [
        {
          "output_type": "stream",
          "name": "stdout",
          "text": [
            "GPM precipitation raster download:\n",
            "https://earthengine.googleapis.com/v1alpha/projects/earthengine-legacy/thumbnails/dadaefcfab58ff3a06abb62f10dcc914-75a4ec19bbfd28fdcf3d1e12555b6ae0:getPixels\n",
            "Elevation raster download:\n",
            "https://earthengine.googleapis.com/v1alpha/projects/earthengine-legacy/thumbnails/c7c3a338c8f2338473c77398ba6ed511-cf77356f200d585ab2652e2735ce2a16:getPixels\n",
            "PRISM precipitation raster download:\n",
            "https://earthengine.googleapis.com/v1alpha/projects/earthengine-legacy/thumbnails/a5dc49404de36aefbda78341973e195b-3a4626c79cd3fa92869fd8fca60ede73:getPixels\n"
          ]
        }
      ]
    },
    {
      "cell_type": "markdown",
      "metadata": {
        "id": "gccdXxb2GcTu"
      },
      "source": [
        "Now, we will load the rasters we just downloaded with a separate python package--rasterio--and compare GPM with PRISM."
      ]
    },
    {
      "cell_type": "code",
      "metadata": {
        "id": "lgnOcr4NGVnD"
      },
      "source": [
        "!pip install rasterio\n",
        "import rasterio\n",
        "from rasterio.warp import reproject\n",
        "import matplotlib.pyplot as plt"
      ],
      "execution_count": null,
      "outputs": []
    },
    {
      "cell_type": "markdown",
      "metadata": {
        "id": "BvIb2SjrG5j0"
      },
      "source": [
        "Click on the 'Files' tab on the left. Go to drive > MyDrive > Colab Notebooks. You should see some '.tif' files for prism, gpm and elevation data. If you don't see them yet, you may have to wait a few minutes for them to get saved to the cloud.\n",
        "\n",
        "Now you will load the rasters into python with rasterio. This package works more easily with the usual python packages, making plotting easier."
      ]
    },
    {
      "cell_type": "code",
      "metadata": {
        "id": "KuDGSQzwG3SH"
      },
      "source": [
        "folder_location='drive/MyDrive/Colab Notebooks/'\n",
        "gpm=rasterio.open(folder_location+'lab2_gpm_precip_CO.tif')\n",
        "prism=rasterio.open(folder_location+'lab2_prism_precip_CO.tif')\n",
        "elev=rasterio.open(folder_location+'lab2_elev_CO.tif')"
      ],
      "execution_count": null,
      "outputs": []
    },
    {
      "cell_type": "markdown",
      "metadata": {
        "id": "FxEGaHrfJym5"
      },
      "source": [
        "Now, we will make a crossplot of PRISM and GPM data, with points colored by elevation. PRISM are considered more accurate generally. Comment on the accuracy of the GPM data."
      ]
    },
    {
      "cell_type": "code",
      "metadata": {
        "id": "5czRL90mJXGZ"
      },
      "source": [
        "gpm_flat=gpm.read().flatten()\n",
        "prism_flat=prism.read().flatten()\n",
        "elev_flat=elev.read().flatten()\n",
        "plt.figure(figsize=(12,8));plt.scatter(gpm_flat,prism_flat,c=elev_flat,s=1)\n",
        "reference_line=[np.nanmin(gpm_flat),np.nanmax(gpm_flat)]\n",
        "plt.plot(reference_line,reference_line,'r')\n",
        "plt.xlabel('GPM precipitation, mm/month')\n",
        "plt.ylabel('PRISM precipitation, mm/month')\n",
        "plt.colorbar()"
      ],
      "execution_count": null,
      "outputs": []
    },
    {
      "cell_type": "markdown",
      "metadata": {
        "id": "pXw_oaR9Si0J"
      },
      "source": [
        "# Part 2: Repeat the above process, but this time do it over the study area for your term project\n",
        "\n",
        "If you haven't decided on a location for your project yet, you can select an area you are considering for your term project. It's OK to change later.\n",
        "\n",
        "You will need to 'fill in the blanks' for the code below."
      ]
    },
    {
      "cell_type": "code",
      "metadata": {
        "id": "ov0AgBbuSmsX"
      },
      "source": [
        "# create a bounding box that defines the study area. This will cover the Lake of the Ozarks region\n",
        "geom_study_area = addGeometry(?,?,?,?) # min long, max long, min lat, max lat\n",
        "\n",
        "# define dates of interest (inclusive).\n",
        "start = '?'\n",
        "end = '?'\n",
        "\n",
        "# use the tools in the example from Part 1 to pull GPM precip and elevation data. \n",
        "# NOTE: if you are workin in a region outside of the US, the get_elev function will not work\n",
        "# (it uses the National Elevation Dataset which only covers the US). Use the get_srtm function instead"
      ],
      "execution_count": null,
      "outputs": []
    },
    {
      "cell_type": "markdown",
      "metadata": {
        "id": "XYQbJiMJWZy-"
      },
      "source": [
        "Now, you will display the map. Try at least three different indices. Include a screenshot and description of what wavelengths you used for each one in your lab report."
      ]
    },
    {
      "cell_type": "code",
      "metadata": {
        "id": "RuRFha_Vv-IN"
      },
      "source": [
        "my_map = folium.Map(location=[?, ?], zoom_start=11) # location values should be lat, lon. zoom_start: lower values are more zoomed out. Adjust until it looks right.\n",
        "\n",
        "# Add the land cover to the map object.\n",
        "my_map.add_ee_layer(?,'? label')\n",
        "my_map.add_ee_layer(?,'? label')\n",
        "my_map.add_ee_layer(geom_study_area,'bounding box')\n",
        "\n",
        "# Add a layer control panel to the map.\n",
        "my_map.add_child(folium.LayerControl())\n",
        "\n",
        "# Display the map.\n",
        "display(my_map)"
      ],
      "execution_count": null,
      "outputs": []
    },
    {
      "cell_type": "markdown",
      "metadata": {
        "id": "KGuwvkABDu67"
      },
      "source": [
        "Download these rasters and display in QGIS as you did before. Repeat the same exercise -- reproject the elevation to a projected CRS, then calculate slope and identify an area of high landslide risk.\n",
        "\n",
        "As before, determine the average precipitation over the study period."
      ]
    },
    {
      "cell_type": "code",
      "metadata": {
        "id": "znHUDcKxD5hz"
      },
      "source": [
        "print('GPM precipitation raster download:')\n",
        "getLink(?,geom_study_area)\n",
        "print('Elevation raster download:')\n",
        "getLink(?,geom_study_area)\n",
        "print('PRISM precipitation raster download')\n",
        "getLink(?,geom)"
      ],
      "execution_count": null,
      "outputs": []
    },
    {
      "cell_type": "markdown",
      "metadata": {
        "id": "EnsD4Xm1mIOv"
      },
      "source": [
        "If you'd like to get more familiar with python, try creating a new code block to do the same analysis as before (load the rasters with rasterio, then make a crossplot). It's mostly just copying code from above, and changing filenames. This part is not required, but if you try it, you will get more comfortable with python."
      ]
    }
  ]
}